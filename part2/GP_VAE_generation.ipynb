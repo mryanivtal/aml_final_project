{
  "nbformat": 4,
  "nbformat_minor": 0,
  "metadata": {
    "colab": {
      "name": "AML project part1 - GP_VAE_generation_yaniv.ipynb",
      "provenance": [],
      "collapsed_sections": [],
      "machine_shape": "hm"
    },
    "kernelspec": {
      "name": "python3",
      "display_name": "Python 3"
    },
    "language_info": {
      "name": "python"
    },
    "accelerator": "GPU",
    "gpuClass": "standard"
  },
  "cells": [
    {
      "cell_type": "markdown",
      "source": [
        "# Reproduce GP-VAE\n",
        "## Instructions for use:\n",
        "1. Update the DRIVE_ROOT_PATH & DATA_ROOT_PATH relative to the cloned repo folder in your google drive\n",
        "2. **Only for the first time you run on a colab host**: perform initial installations and fixes:\n",
        "  * Un-Comment code cell 2\n",
        "  * Execute code cells 1, 2 \n",
        "  * Comment cell 2 back\n",
        "  * Restart the host\n",
        "3. Run the notebook\n",
        "\n",
        "**Note**: The train / test outputs (model, results) will be copied into the repository clone under 'model' folder in the end, as intended by the original writers."
      ],
      "metadata": {
        "id": "IvAhUzMhgA38"
      }
    },
    {
      "cell_type": "code",
      "execution_count": 24,
      "metadata": {
        "colab": {
          "base_uri": "https://localhost:8080/"
        },
        "id": "WjLpdDbq8J2L",
        "outputId": "ab5e70a6-a04d-49ab-916a-408390334bb5"
      },
      "outputs": [
        {
          "output_type": "stream",
          "name": "stdout",
          "text": [
            "Drive already mounted at /content/drive; to attempt to forcibly remount, call drive.mount(\"/content/drive\", force_remount=True).\n",
            "total 92\n",
            "drwxr-xr-x 1 root root  4096 Aug 16 12:07 .\n",
            "drwxr-xr-x 1 root root  4096 Aug 16 11:59 ..\n",
            "drwxr-xr-x 4 root root  4096 Aug  3 20:20 .config\n",
            "drwx------ 2 root root  4096 Aug 16 12:05 data\n",
            "drwx------ 5 root root  4096 Aug 16 12:05 drive\n",
            "drwx------ 2 root root  4096 Aug 16 12:05 figures\n",
            "-rw------- 1 root root  8525 Aug 16 12:18 generate.py\n",
            "drwx------ 3 root root  4096 Aug 16 12:05 lib\n",
            "-rw------- 1 root root  1087 Aug 16 12:18 LICENSE\n",
            "drwx------ 3 root root  4096 Aug 16 12:18 outputs\n",
            "drwx------ 2 root root  4096 Aug 16 12:17 __pycache__\n",
            "-rw------- 1 root root  2364 Aug 16 12:18 README.md\n",
            "-rw------- 1 root root   146 Aug 16 12:18 requirements.txt\n",
            "drwxr-xr-x 1 root root  4096 Aug  3 20:21 sample_data\n",
            "-rw------- 1 root root 18845 Aug 16 12:18 train.py\n",
            "drwx------ 2 root root  4096 Aug 16 12:07 utils\n",
            "-rw------- 1 root root  2579 Aug 16 12:18 utils.py\n"
          ]
        }
      ],
      "source": [
        "import time\n",
        "from pathlib import Path\n",
        "from google.colab import drive\n",
        "\n",
        "# Google Drive linkage\n",
        "drive.mount('/content/drive')\n",
        "DRIVE_ROOT_DIR = Path('/content/drive/MyDrive/colab_data/aml_project/gp_vae_for_data_generation')\n",
        "DRIVE_DATA_DIR = Path('/content/drive/MyDrive/colab_data/aml_project/data/hmnist_full.npz')\n",
        "\n",
        "# copy code to colab host\n",
        "!rm -rf outputs/*\n",
        "!cp -R $DRIVE_ROOT_DIR/* .\n",
        "!ls -la $ROOT_DIR"
      ]
    },
    {
      "cell_type": "code",
      "source": [
        "# Run one time only, then comment and restart the host\n",
        "\n",
        "# !pip install -r requirements.txt"
      ],
      "metadata": {
        "id": "onWfpZNxcXlm"
      },
      "execution_count": 25,
      "outputs": []
    },
    {
      "cell_type": "markdown",
      "source": [
        "## Train model"
      ],
      "metadata": {
        "id": "PrXv5V5EI7IH"
      }
    },
    {
      "cell_type": "code",
      "source": [
        "# Create output folders for this run\n",
        "\n",
        "# Relative paths - correct both for drive and for local (Colab) VM\n",
        "datetime = time.strftime(\"%Y%m%d-%H%M%S\")\n",
        "OUTPUTS_DIR = Path(f'outputs/{datetime}')\n",
        "DRIVE_OUTPUTS_DIR = DRIVE_ROOT_DIR / OUTPUTS_DIR\n",
        "\n",
        "# Create output folders on local (Colab) VM\n",
        "Path(OUTPUTS_DIR).mkdir(parents=True, exist_ok=True)\n",
        "print(f'OUTPUTS_DIR = {OUTPUTS_DIR}, exists = {Path.exists(OUTPUTS_DIR)}')\n",
        "\n",
        "Path(DRIVE_OUTPUTS_DIR).mkdir(parents=True, exist_ok=True)\n",
        "print(f'DRIVE_OUTPUTS_DIR = {DRIVE_OUTPUTS_DIR}, exists = {Path.exists(DRIVE_OUTPUTS_DIR)}')"
      ],
      "metadata": {
        "colab": {
          "base_uri": "https://localhost:8080/"
        },
        "id": "nx0cg57qnIH9",
        "outputId": "df64afd0-e9ec-4304-b568-ddb067b70e3d"
      },
      "execution_count": 26,
      "outputs": [
        {
          "output_type": "stream",
          "name": "stdout",
          "text": [
            "OUTPUTS_DIR = outputs/20220816-121854, exists = True\n",
            "DRIVE_OUTPUTS_DIR = /content/drive/MyDrive/colab_data/aml_project/gp_vae_for_data_generation/outputs/20220816-121854, exists = True\n"
          ]
        }
      ]
    },
    {
      "cell_type": "code",
      "source": [
        "# #Train on limited dataset\n",
        "SAMPLES_PER_DIGIT = 200\n",
        "NUM_EPOCHS = 25\n",
        "WHITE_FLIP_RATIO = 0.6\n",
        "BLACK_FLIP_RATIO = 0.8\n",
        "\n",
        "!python train.py --model_type gp-vae --seed 123 --data_type hmnist --banded_covar --latent_dim 256 --encoder_sizes=256,256 --decoder_sizes=256,256,256 --window_size 3 --sigma 1 --length_scale 2 --beta 0.8 --num_epochs $NUM_EPOCHS --train_class_number $SAMPLES_PER_DIGIT --data_dir $DRIVE_DATA_DIR --base_dir $OUTPUTS_DIR --black_flip_ratio $BLACK_FLIP_RATIO --white_flip_ratio $WHITE_FLIP_RATIO"
      ],
      "metadata": {
        "colab": {
          "base_uri": "https://localhost:8080/"
        },
        "id": "VegyQpEW9ZQT",
        "outputId": "f4f213d6-59c8-4eb9-bcd0-a4bb8802930f"
      },
      "execution_count": null,
      "outputs": [
        {
          "output_type": "stream",
          "name": "stdout",
          "text": [
            "Seed: {FLAGS.seed}\n",
            "Outputs will be saved to:  outputs/20220816-121854/model\n",
            "tcmalloc: large alloc 3763200000 bytes == 0x59aa000 @  0x7fd1175331e7 0x7fd113f88cf1 0x7fd113fed7c8 0x7fd113f8c4f1 0x5947d6 0x548cc1 0x5127f1 0x549576 0x593fce 0x548ae9 0x5127f1 0x4bc98a 0x533274 0x4d3969 0x512147 0x549e0e 0x593fce 0x5118f8 0x593dd7 0x5118f8 0x549576 0x593fce 0x548ae9 0x51566f 0x549576 0x604173 0x5f5506 0x5f8c6c 0x5f9206 0x64faf2 0x64fc4e\n",
            "tcmalloc: large alloc 1881604096 bytes == 0xe5ec8000 @  0x7fd1175331e7 0x7fd113f88cf1 0x7fd113ff05d0 0x7fd114080ab2 0x59b1b0 0x515655 0x549e0e 0x593fce 0x5118f8 0x593dd7 0x5118f8 0x549576 0x593fce 0x548ae9 0x51566f 0x549576 0x604173 0x5f5506 0x5f8c6c 0x5f9206 0x64faf2 0x64fc4e 0x7fd117130c87 0x5b621a\n",
            "Loading data...Done!\n",
            "4000\n",
            "Saved train dataset to: outputs/20220816-121854/train_data.npz\n",
            "2022-08-16 12:19:13.580182: I tensorflow/stream_executor/platform/default/dso_loader.cc:44] Successfully opened dynamic library libcuda.so.1\n",
            "2022-08-16 12:19:13.653761: I tensorflow/stream_executor/cuda/cuda_gpu_executor.cc:983] successful NUMA node read from SysFS had negative value (-1), but there must be at least one NUMA node, so returning NUMA node zero\n",
            "2022-08-16 12:19:13.654341: I tensorflow/core/common_runtime/gpu/gpu_device.cc:1618] Found device 0 with properties: \n",
            "name: Tesla T4 major: 7 minor: 5 memoryClockRate(GHz): 1.59\n",
            "pciBusID: 0000:00:04.0\n",
            "2022-08-16 12:19:13.655229: I tensorflow/stream_executor/platform/default/dso_loader.cc:44] Successfully opened dynamic library libcudart.so.10.0\n",
            "2022-08-16 12:19:13.666536: I tensorflow/stream_executor/platform/default/dso_loader.cc:44] Successfully opened dynamic library libcublas.so.10.0\n",
            "2022-08-16 12:19:13.672541: I tensorflow/stream_executor/platform/default/dso_loader.cc:44] Successfully opened dynamic library libcufft.so.10.0\n",
            "2022-08-16 12:19:13.674456: I tensorflow/stream_executor/platform/default/dso_loader.cc:44] Successfully opened dynamic library libcurand.so.10.0\n",
            "2022-08-16 12:19:13.686126: I tensorflow/stream_executor/platform/default/dso_loader.cc:44] Successfully opened dynamic library libcusolver.so.10.0\n",
            "2022-08-16 12:19:13.692503: I tensorflow/stream_executor/platform/default/dso_loader.cc:44] Successfully opened dynamic library libcusparse.so.10.0\n",
            "2022-08-16 12:19:13.711851: I tensorflow/stream_executor/platform/default/dso_loader.cc:44] Successfully opened dynamic library libcudnn.so.7\n",
            "2022-08-16 12:19:13.711983: I tensorflow/stream_executor/cuda/cuda_gpu_executor.cc:983] successful NUMA node read from SysFS had negative value (-1), but there must be at least one NUMA node, so returning NUMA node zero\n",
            "2022-08-16 12:19:13.712594: I tensorflow/stream_executor/cuda/cuda_gpu_executor.cc:983] successful NUMA node read from SysFS had negative value (-1), but there must be at least one NUMA node, so returning NUMA node zero\n",
            "2022-08-16 12:19:13.713108: I tensorflow/core/common_runtime/gpu/gpu_device.cc:1746] Adding visible gpu devices: 0\n",
            "2022-08-16 12:19:13.713496: I tensorflow/core/platform/cpu_feature_guard.cc:142] Your CPU supports instructions that this TensorFlow binary was not compiled to use: AVX2 FMA\n",
            "2022-08-16 12:19:13.725624: I tensorflow/core/platform/profile_utils/cpu_utils.cc:94] CPU Frequency: 2299995000 Hz\n",
            "2022-08-16 12:19:13.726256: I tensorflow/compiler/xla/service/service.cc:168] XLA service 0x1688bc0 initialized for platform Host (this does not guarantee that XLA will be used). Devices:\n",
            "2022-08-16 12:19:13.726288: I tensorflow/compiler/xla/service/service.cc:176]   StreamExecutor device (0): Host, Default Version\n",
            "2022-08-16 12:19:13.955437: I tensorflow/stream_executor/cuda/cuda_gpu_executor.cc:983] successful NUMA node read from SysFS had negative value (-1), but there must be at least one NUMA node, so returning NUMA node zero\n",
            "2022-08-16 12:19:13.956464: I tensorflow/compiler/xla/service/service.cc:168] XLA service 0x16892c0 initialized for platform CUDA (this does not guarantee that XLA will be used). Devices:\n",
            "2022-08-16 12:19:13.956497: I tensorflow/compiler/xla/service/service.cc:176]   StreamExecutor device (0): Tesla T4, Compute Capability 7.5\n",
            "2022-08-16 12:19:13.956753: I tensorflow/stream_executor/cuda/cuda_gpu_executor.cc:983] successful NUMA node read from SysFS had negative value (-1), but there must be at least one NUMA node, so returning NUMA node zero\n",
            "2022-08-16 12:19:13.957580: I tensorflow/core/common_runtime/gpu/gpu_device.cc:1618] Found device 0 with properties: \n",
            "name: Tesla T4 major: 7 minor: 5 memoryClockRate(GHz): 1.59\n",
            "pciBusID: 0000:00:04.0\n",
            "2022-08-16 12:19:13.957685: I tensorflow/stream_executor/platform/default/dso_loader.cc:44] Successfully opened dynamic library libcudart.so.10.0\n",
            "2022-08-16 12:19:13.957718: I tensorflow/stream_executor/platform/default/dso_loader.cc:44] Successfully opened dynamic library libcublas.so.10.0\n",
            "2022-08-16 12:19:13.957739: I tensorflow/stream_executor/platform/default/dso_loader.cc:44] Successfully opened dynamic library libcufft.so.10.0\n",
            "2022-08-16 12:19:13.957758: I tensorflow/stream_executor/platform/default/dso_loader.cc:44] Successfully opened dynamic library libcurand.so.10.0\n",
            "2022-08-16 12:19:13.957787: I tensorflow/stream_executor/platform/default/dso_loader.cc:44] Successfully opened dynamic library libcusolver.so.10.0\n",
            "2022-08-16 12:19:13.957820: I tensorflow/stream_executor/platform/default/dso_loader.cc:44] Successfully opened dynamic library libcusparse.so.10.0\n",
            "2022-08-16 12:19:13.957844: I tensorflow/stream_executor/platform/default/dso_loader.cc:44] Successfully opened dynamic library libcudnn.so.7\n",
            "2022-08-16 12:19:13.957927: I tensorflow/stream_executor/cuda/cuda_gpu_executor.cc:983] successful NUMA node read from SysFS had negative value (-1), but there must be at least one NUMA node, so returning NUMA node zero\n",
            "2022-08-16 12:19:13.958764: I tensorflow/stream_executor/cuda/cuda_gpu_executor.cc:983] successful NUMA node read from SysFS had negative value (-1), but there must be at least one NUMA node, so returning NUMA node zero\n",
            "2022-08-16 12:19:13.959363: I tensorflow/core/common_runtime/gpu/gpu_device.cc:1746] Adding visible gpu devices: 0\n",
            "2022-08-16 12:19:13.959553: I tensorflow/stream_executor/platform/default/dso_loader.cc:44] Successfully opened dynamic library libcudart.so.10.0\n",
            "2022-08-16 12:19:13.960831: I tensorflow/core/common_runtime/gpu/gpu_device.cc:1159] Device interconnect StreamExecutor with strength 1 edge matrix:\n",
            "2022-08-16 12:19:13.960860: I tensorflow/core/common_runtime/gpu/gpu_device.cc:1165]      0 \n",
            "2022-08-16 12:19:13.960874: I tensorflow/core/common_runtime/gpu/gpu_device.cc:1178] 0:   N \n",
            "2022-08-16 12:19:13.961281: I tensorflow/stream_executor/cuda/cuda_gpu_executor.cc:983] successful NUMA node read from SysFS had negative value (-1), but there must be at least one NUMA node, so returning NUMA node zero\n",
            "2022-08-16 12:19:13.961840: I tensorflow/stream_executor/cuda/cuda_gpu_executor.cc:983] successful NUMA node read from SysFS had negative value (-1), but there must be at least one NUMA node, so returning NUMA node zero\n",
            "2022-08-16 12:19:13.962365: W tensorflow/core/common_runtime/gpu/gpu_bfc_allocator.cc:39] Overriding allow_growth setting because the TF_FORCE_GPU_ALLOW_GROWTH environment variable is set. Original config value was 0.\n",
            "2022-08-16 12:19:13.962403: I tensorflow/core/common_runtime/gpu/gpu_device.cc:1304] Created TensorFlow device (/job:localhost/replica:0/task:0/device:GPU:0 with 14257 MB memory) -> physical GPU (device: 0, name: Tesla T4, pci bus id: 0000:00:04.0, compute capability: 7.5)\n",
            "W0816 12:19:18.784877 140536020612992 deprecation.py:323] From /usr/local/lib/python3.7/dist-packages/tensorflow_core/python/data/util/random_seed.py:58: where (from tensorflow.python.ops.array_ops) is deprecated and will be removed in a future version.\n",
            "Instructions for updating:\n",
            "Use tf.where in 2.0, which has the same broadcast rule as np.where\n",
            "2022-08-16 12:19:18.788106: W tensorflow/core/framework/cpu_allocator_impl.cc:81] Allocation of 313600000 exceeds 10% of system memory.\n",
            "2022-08-16 12:19:18.944187: W tensorflow/core/framework/cpu_allocator_impl.cc:81] Allocation of 627200000 exceeds 10% of system memory.\n",
            "Using CNN preprocessor\n",
            "2022-08-16 12:19:19.104158: I tensorflow/stream_executor/cuda/cuda_gpu_executor.cc:983] successful NUMA node read from SysFS had negative value (-1), but there must be at least one NUMA node, so returning NUMA node zero\n",
            "2022-08-16 12:19:19.104722: I tensorflow/core/common_runtime/gpu/gpu_device.cc:1618] Found device 0 with properties: \n",
            "name: Tesla T4 major: 7 minor: 5 memoryClockRate(GHz): 1.59\n",
            "pciBusID: 0000:00:04.0\n",
            "2022-08-16 12:19:19.104788: I tensorflow/stream_executor/platform/default/dso_loader.cc:44] Successfully opened dynamic library libcudart.so.10.0\n",
            "2022-08-16 12:19:19.104804: I tensorflow/stream_executor/platform/default/dso_loader.cc:44] Successfully opened dynamic library libcublas.so.10.0\n",
            "2022-08-16 12:19:19.104819: I tensorflow/stream_executor/platform/default/dso_loader.cc:44] Successfully opened dynamic library libcufft.so.10.0\n",
            "2022-08-16 12:19:19.104832: I tensorflow/stream_executor/platform/default/dso_loader.cc:44] Successfully opened dynamic library libcurand.so.10.0\n",
            "2022-08-16 12:19:19.104846: I tensorflow/stream_executor/platform/default/dso_loader.cc:44] Successfully opened dynamic library libcusolver.so.10.0\n",
            "2022-08-16 12:19:19.104860: I tensorflow/stream_executor/platform/default/dso_loader.cc:44] Successfully opened dynamic library libcusparse.so.10.0\n",
            "2022-08-16 12:19:19.104876: I tensorflow/stream_executor/platform/default/dso_loader.cc:44] Successfully opened dynamic library libcudnn.so.7\n",
            "2022-08-16 12:19:19.104935: I tensorflow/stream_executor/cuda/cuda_gpu_executor.cc:983] successful NUMA node read from SysFS had negative value (-1), but there must be at least one NUMA node, so returning NUMA node zero\n",
            "2022-08-16 12:19:19.105465: I tensorflow/stream_executor/cuda/cuda_gpu_executor.cc:983] successful NUMA node read from SysFS had negative value (-1), but there must be at least one NUMA node, so returning NUMA node zero\n",
            "2022-08-16 12:19:19.105953: I tensorflow/core/common_runtime/gpu/gpu_device.cc:1746] Adding visible gpu devices: 0\n",
            "2022-08-16 12:19:19.105987: I tensorflow/core/common_runtime/gpu/gpu_device.cc:1159] Device interconnect StreamExecutor with strength 1 edge matrix:\n",
            "2022-08-16 12:19:19.105999: I tensorflow/core/common_runtime/gpu/gpu_device.cc:1165]      0 \n",
            "2022-08-16 12:19:19.106006: I tensorflow/core/common_runtime/gpu/gpu_device.cc:1178] 0:   N \n",
            "2022-08-16 12:19:19.106118: I tensorflow/stream_executor/cuda/cuda_gpu_executor.cc:983] successful NUMA node read from SysFS had negative value (-1), but there must be at least one NUMA node, so returning NUMA node zero\n",
            "2022-08-16 12:19:19.106717: I tensorflow/stream_executor/cuda/cuda_gpu_executor.cc:983] successful NUMA node read from SysFS had negative value (-1), but there must be at least one NUMA node, so returning NUMA node zero\n",
            "2022-08-16 12:19:19.107284: I tensorflow/core/common_runtime/gpu/gpu_device.cc:1304] Created TensorFlow device (/device:GPU:0 with 14257 MB memory) -> physical GPU (device: 0, name: Tesla T4, pci bus id: 0000:00:04.0, compute capability: 7.5)\n",
            "GPU support:  True\n",
            "Training...\n",
            "2022-08-16 12:19:19.114748: I tensorflow/core/kernels/cuda_solvers.cc:159] Creating CudaSolver handles for stream 0xd723b20\n",
            "2022-08-16 12:19:19.114807: I tensorflow/stream_executor/platform/default/dso_loader.cc:44] Successfully opened dynamic library libcusolver.so.10.0\n",
            "2022-08-16 12:19:19.829880: I tensorflow/stream_executor/platform/default/dso_loader.cc:44] Successfully opened dynamic library libcublas.so.10.0\n",
            "2022-08-16 12:19:20.183646: I tensorflow/stream_executor/platform/default/dso_loader.cc:44] Successfully opened dynamic library libcudnn.so.7\n",
            "2022-08-16 12:19:21.832142: I tensorflow/stream_executor/platform/default/dso_loader.cc:44] Successfully opened dynamic library libcublas.so.10.0\n",
            "Model: \"sequential_1\"\n",
            "_________________________________________________________________\n",
            "Layer (type)                 Output Shape              Param #   \n",
            "=================================================================\n",
            "conv1d (Conv1D)              multiple                  602368    \n",
            "_________________________________________________________________\n",
            "dense (Dense)                multiple                  65792     \n",
            "_________________________________________________________________\n",
            "dense_1 (Dense)              multiple                  197376    \n",
            "=================================================================\n",
            "Total params: 865,536\n",
            "Trainable params: 865,536\n",
            "Non-trainable params: 0\n",
            "_________________________________________________________________\n",
            "Encoder:  None\n",
            "Model: \"sequential_2\"\n",
            "_________________________________________________________________\n",
            "Layer (type)                 Output Shape              Param #   \n",
            "=================================================================\n",
            "dense_2 (Dense)              multiple                  65792     \n",
            "_________________________________________________________________\n",
            "dense_3 (Dense)              multiple                  65792     \n",
            "_________________________________________________________________\n",
            "dense_4 (Dense)              multiple                  65792     \n",
            "_________________________________________________________________\n",
            "dense_5 (Dense)              multiple                  201488    \n",
            "=================================================================\n",
            "Total params: 398,864\n",
            "Trainable params: 398,864\n",
            "Non-trainable params: 0\n",
            "_________________________________________________________________\n",
            "Decoder:  None\n",
            "Model: \"sequential\"\n",
            "_________________________________________________________________\n",
            "Layer (type)                 Output Shape              Param #   \n",
            "=================================================================\n",
            "conv2d (Conv2D)              multiple                  2560      \n",
            "_________________________________________________________________\n",
            "conv2d_1 (Conv2D)            multiple                  2305      \n",
            "=================================================================\n",
            "Total params: 4,865\n",
            "Trainable params: 4,865\n",
            "Non-trainable params: 0\n",
            "_________________________________________________________________\n",
            "Preprocessor:  None\n",
            "W0816 12:19:21.959524 140536020612992 lazy_loader.py:50] \n",
            "The TensorFlow contrib module will not be included in TensorFlow 2.0.\n",
            "For more information, please see:\n",
            "  * https://github.com/tensorflow/community/blob/master/rfcs/20180907-contrib-sunset.md\n",
            "  * https://github.com/tensorflow/addons\n",
            "  * https://github.com/tensorflow/io (for I/O related ops)\n",
            "If you depend on functionality not listed there, please file an issue.\n",
            "\n",
            "2022-08-16 12:19:22.513449: W tensorflow/core/framework/cpu_allocator_impl.cc:81] Allocation of 125440000 exceeds 10% of system memory.\n",
            "2022-08-16 12:19:22.587594: W tensorflow/core/framework/cpu_allocator_impl.cc:81] Allocation of 250880000 exceeds 10% of system memory.\n",
            "================================================\n",
            "Learning rate: 0.001 | Global gradient norm: 436.61\n",
            "Step 0) Time = 2.149387\n",
            "Train loss = 6243.621 | NLL = 1214.347 | KL = 6286.594\n",
            "Validation loss = 6229.997 | NLL = 1197.164 | KL = 6291.041\n",
            "================================================\n",
            "Learning rate: 0.001 | Global gradient norm: 245.74\n",
            "Step 62) Time = 41.659717\n",
            "Train loss = 1674.462 | NLL = 636.385 | KL = 1297.596\n",
            "Validation loss = 1658.158 | NLL = 619.884 | KL = 1297.843\n"
          ]
        }
      ]
    },
    {
      "cell_type": "code",
      "source": [
        "# Copy trained models back to drive\n",
        "!cp -R $OUTPUTS_DIR/* $DRIVE_OUTPUTS_DIR\n",
        "print(f'DRIVE_OUTPUTS_DIR = {DRIVE_OUTPUTS_DIR}')\n",
        "!ls -la $DRIVE_OUTPUTS_DIR\n"
      ],
      "metadata": {
        "id": "Se5Ggzi2Q4NS"
      },
      "execution_count": null,
      "outputs": []
    },
    {
      "cell_type": "markdown",
      "source": [
        "## Generate new samples based on the dataset used in train and the model"
      ],
      "metadata": {
        "id": "ajfeYCM0I_zL"
      }
    },
    {
      "cell_type": "code",
      "source": [
        "#Train on limited dataset\n",
        "WHITE_FLIP_RATIO = 0.6\n",
        "BLACK_FLIP_RATIO = 0.8\n",
        "\n",
        "!python generate.py --model_type gp-vae --data_type hmnist --seed 123 --banded_covar --latent_dim 256 --encoder_sizes=256,256 --decoder_sizes=256,256,256 --window_size 3 --sigma 1 --length_scale 2 --beta 0.8 --num_epochs 20 --base_dir $OUTPUTS_DIR --black_flip_ratio $BLACK_FLIP_RATIO --white_flip_ratio $WHITE_FLIP_RATIO"
      ],
      "metadata": {
        "id": "c6bvmGNwIxGW"
      },
      "execution_count": null,
      "outputs": []
    },
    {
      "cell_type": "code",
      "source": [
        "# Copy trained models back to drive\n",
        "!cp -R $OUTPUTS_DIR/generated_data $DRIVE_OUTPUTS_DIR\n",
        "print(f'DRIVE_OUTPUTS_DIR = {DRIVE_OUTPUTS_DIR}')\n",
        "!ls -la $DRIVE_OUTPUTS_DIR/generated_data\n",
        "\n"
      ],
      "metadata": {
        "id": "7m2_pd0INqMT"
      },
      "execution_count": null,
      "outputs": []
    },
    {
      "cell_type": "code",
      "source": [
        "!rm -rf outputs/*\n"
      ],
      "metadata": {
        "id": "J102CQSTls4W"
      },
      "execution_count": null,
      "outputs": []
    }
  ]
}
