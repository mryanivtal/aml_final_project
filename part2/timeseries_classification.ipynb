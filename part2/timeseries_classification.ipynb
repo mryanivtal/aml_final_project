{
  "cells": [
    {
      "cell_type": "markdown",
      "metadata": {
        "id": "3gF_egUMbEUA"
      },
      "source": [
        "# Timeseries Classification\n",
        "## Instructions for use:\n",
        "\n",
        "1. Update the INPUT_DIR to the output folder you got from running GP_VAE_generation.ipynb and you used also in TimeGAN notebook. In this folder you have the generated data to be used for time-series classification \n",
        "2. Run the notebook\n"
      ]
    },
    {
      "cell_type": "code",
      "source": [
        "INPUT_DIR = '/content/drive/MyDrive/AML_Project/part2/gp_vae_for_data_generation/outputs/20220821-154051'"
      ],
      "metadata": {
        "id": "AHz6BusGQipX"
      },
      "execution_count": 1,
      "outputs": []
    },
    {
      "cell_type": "code",
      "execution_count": 2,
      "metadata": {
        "id": "FrXH29CgbEUG"
      },
      "outputs": [],
      "source": [
        "from tensorflow import keras\n",
        "import numpy as np\n",
        "import matplotlib.pyplot as plt"
      ]
    },
    {
      "cell_type": "code",
      "source": [
        "import time\n",
        "from pathlib import Path\n",
        "from google.colab import drive\n",
        "\n",
        "# Google Drive linkage\n",
        "drive.mount('/content/drive')"
      ],
      "metadata": {
        "id": "toIHw35rXiix",
        "colab": {
          "base_uri": "https://localhost:8080/"
        },
        "outputId": "a8a09931-54f2-4100-918c-ecb0abfbd5a9"
      },
      "execution_count": 3,
      "outputs": [
        {
          "output_type": "stream",
          "name": "stdout",
          "text": [
            "Drive already mounted at /content/drive; to attempt to forcibly remount, call drive.mount(\"/content/drive\", force_remount=True).\n"
          ]
        }
      ]
    },
    {
      "cell_type": "markdown",
      "metadata": {
        "id": "t6dAt4HPu2EB"
      },
      "source": [
        "## Healing MNIST"
      ]
    },
    {
      "cell_type": "code",
      "execution_count": 4,
      "metadata": {
        "id": "Wv7jk_Bbuvk4"
      },
      "outputs": [],
      "source": [
        "import numpy as np\n",
        "import scipy.ndimage\n",
        "import random\n",
        "from tensorflow.keras.datasets import mnist\n",
        "\n",
        "\n",
        "def apply_square(img, square_size):\n",
        "    img = np.array(img)\n",
        "    img[:square_size, :square_size] = 255\n",
        "    return img\n",
        "\n",
        "\n",
        "def apply_noise(img, bit_flip_ratio):\n",
        "    img = np.array(img)\n",
        "    mask = np.random.random(size=(28,28)) < bit_flip_ratio\n",
        "    img[mask] = 255 - img[mask]\n",
        "    return img\n",
        "\n",
        "\n",
        "def get_rotations(img, rotation_steps):\n",
        "    for rot in rotation_steps:\n",
        "        img = scipy.ndimage.rotate(img, rot, reshape=False)\n",
        "        yield img\n",
        "\n",
        "\n",
        "def binarize(img):\n",
        "    return (img > 127).astype(np.int)\n",
        "\n",
        "\n",
        "def heal_image(img, seq_len, square_count, square_size, noise_ratio, max_angle):\n",
        "    squares_begin = np.random.randint(0, seq_len - square_count)\n",
        "    squares_end = squares_begin + square_count\n",
        "\n",
        "    rotations = []\n",
        "    rotation_steps = np.random.normal(size=seq_len, scale=max_angle)\n",
        "    \n",
        "    direction = random.randint(0, 1)\n",
        "    if direction == 0:\n",
        "      rotation_steps = abs(rotation_steps)\n",
        "    else:\n",
        "       rotation_steps = abs(rotation_steps)*-1\n",
        "    rotation_steps = np.sort(rotation_steps)\n",
        "\n",
        "    for idx, rotation in enumerate(get_rotations(img, rotation_steps)):\n",
        "        # Don't add the squares right now\n",
        "        # if idx >= squares_begin and idx < squares_end:\n",
        "        #     rotation = apply_square(rotation, square_size)\n",
        "        \n",
        "        # Don't add noise for now\n",
        "        # noisy_img = apply_noise(rotation, noise_ratio)\n",
        "        noisy_img = rotation\n",
        "        binarized_img = binarize(noisy_img)\n",
        "        rotations.append(binarized_img)\n",
        "\n",
        "    return rotations, rotation_steps, direction\n",
        "\n",
        "\n",
        "class HealingMNIST():\n",
        "    def __init__(self, seq_len=10, square_count=3, square_size=5, noise_ratio=0.15, digits=range(10), max_angle=10, max_number_per_class=10000):\n",
        "        lables_counts = {}\n",
        "        (x_train, y_train),(x_test, y_test) = mnist.load_data()\n",
        "        mnist_train = [(img,label) for img, label in zip(x_train, y_train) if label in digits]\n",
        "        mnist_test = [(img, label) for img, label in zip(x_test, y_test) if label in digits]\n",
        "\n",
        "        train_images = []\n",
        "        test_images = []\n",
        "        train_rotations = []\n",
        "        test_rotations = []\n",
        "        train_labels = []\n",
        "        test_labels = []\n",
        "\n",
        "        for img, label in mnist_train:\n",
        "            \n",
        "            if label in lables_counts:\n",
        "              lables_counts[label] += 1\n",
        "            else:\n",
        "              lables_counts[label] = 0\n",
        "            if lables_counts[label] >= max_number_per_class:\n",
        "                continue\n",
        "\n",
        "            train_img, train_rot, direction = heal_image(img, seq_len, square_count, square_size, noise_ratio, max_angle)\n",
        "            train_images.append(train_img)\n",
        "            train_rotations.append(train_rot)\n",
        "           \n",
        "            train_labels.append(str(label) + \"_\" + str(direction))\n",
        "\n",
        "        for img, label in mnist_test:\n",
        "            test_img, test_rot, direction = heal_image(img, seq_len, square_count, square_size, noise_ratio, max_angle)\n",
        "            test_images.append(test_img)\n",
        "            test_rotations.append(test_rot)\n",
        "            test_labels.append(str(label) + \"_\" + str(direction))\n",
        "        _,train_labels = np.unique(train_labels, return_inverse=True)\n",
        "        _,test_labels = np.unique(test_labels, return_inverse=True)\n",
        "        self.train_images = np.array(train_images)\n",
        "        self.test_images = np.array(test_images)\n",
        "        self.train_rotations = np.array(train_rotations)\n",
        "        self.test_rotations = np.array(test_rotations)\n",
        "        self.train_labels = np.array(train_labels)\n",
        "        self.test_labels = np.array(test_labels)"
      ]
    },
    {
      "cell_type": "code",
      "source": [
        "data = HealingMNIST()"
      ],
      "metadata": {
        "colab": {
          "base_uri": "https://localhost:8080/"
        },
        "id": "8WGJFe8t3DEp",
        "outputId": "58e3eb85-8b39-443c-e4ff-c99f8ae55365"
      },
      "execution_count": 5,
      "outputs": [
        {
          "output_type": "stream",
          "name": "stderr",
          "text": [
            "/usr/local/lib/python3.7/dist-packages/ipykernel_launcher.py:27: DeprecationWarning: `np.int` is a deprecated alias for the builtin `int`. To silence this warning, use `int` by itself. Doing this will not modify any behavior and is safe. When replacing `np.int`, you may wish to use e.g. `np.int64` or `np.int32` to specify the precision. If you wish to review your current use, check the release note link for additional information.\n",
            "Deprecated in NumPy 1.20; for more details and guidance: https://numpy.org/devdocs/release/1.20.0-notes.html#deprecations\n"
          ]
        }
      ]
    },
    {
      "cell_type": "code",
      "source": [
        "i=10\n",
        "f, axarr = plt.subplots(1,10,figsize=(40, 15))\n",
        "axarr[0].imshow(data.train_images[i][0].reshape(28,28))\n",
        "axarr[1].imshow(data.train_images[i][1].reshape(28,28))\n",
        "axarr[2].imshow(data.train_images[i][2].reshape(28,28))\n",
        "axarr[3].imshow(data.train_images[i][3].reshape(28,28))\n",
        "axarr[4].imshow(data.train_images[i][4].reshape(28,28))\n",
        "axarr[5].imshow(data.train_images[i][5].reshape(28,28))\n",
        "axarr[6].imshow(data.train_images[i][6].reshape(28,28))\n",
        "axarr[7].imshow(data.train_images[i][7].reshape(28,28))\n",
        "axarr[8].imshow(data.train_images[i][8].reshape(28,28))\n",
        "axarr[9].imshow(data.train_images[i][9].reshape(28,28))\n",
        "plt.show()"
      ],
      "metadata": {
        "colab": {
          "base_uri": "https://localhost:8080/",
          "height": 163
        },
        "id": "PnmjBOVx3sGp",
        "outputId": "8c6a75f8-6633-436e-ff2f-782e1901938f"
      },
      "execution_count": 6,
      "outputs": [
        {
          "output_type": "display_data",
          "data": {
            "text/plain": [
              "<Figure size 2880x1080 with 10 Axes>"
            ],
            "image/png": "[encoded data removed]"
          },
          "metadata": {
            "needs_background": "light"
          }
        }
      ]
    },
    {
      "cell_type": "markdown",
      "metadata": {
        "id": "B00VR-7xuVbh"
      },
      "source": [
        "## Limited Data"
      ]
    },
    {
      "cell_type": "code",
      "execution_count": 7,
      "metadata": {
        "colab": {
          "base_uri": "https://localhost:8080/"
        },
        "id": "w02mnZqkbVWm",
        "outputId": "c7ce9ff1-fecd-48fc-851b-43fcea8af826"
      },
      "outputs": [
        {
          "output_type": "stream",
          "name": "stderr",
          "text": [
            "/usr/local/lib/python3.7/dist-packages/ipykernel_launcher.py:27: DeprecationWarning: `np.int` is a deprecated alias for the builtin `int`. To silence this warning, use `int` by itself. Doing this will not modify any behavior and is safe. When replacing `np.int`, you may wish to use e.g. `np.int64` or `np.int32` to specify the precision. If you wish to review your current use, check the release note link for additional information.\n",
            "Deprecated in NumPy 1.20; for more details and guidance: https://numpy.org/devdocs/release/1.20.0-notes.html#deprecations\n"
          ]
        },
        {
          "output_type": "execute_result",
          "data": {
            "text/plain": [
              "(6000, 10, 784)"
            ]
          },
          "metadata": {},
          "execution_count": 7
        }
      ],
      "source": [
        "data = HealingMNIST()\n",
        "data2 = np.load(INPUT_DIR + '/train_data.npz')\n",
        "x_train, y_train = data2['x_train'], data2['y_train']\n",
        "x_test, y_test = data.test_images.reshape(data.test_images.shape[0],data.test_images.shape[1], data.test_images.shape[2] * data.test_images.shape[3]), data.test_labels\n",
        "x_train.shape"
      ]
    },
    {
      "cell_type": "markdown",
      "metadata": {
        "id": "6yh_HVHxbEUO"
      },
      "source": [
        "Finally, in order to use `sparse_categorical_crossentropy`, we will have to count\n",
        "the number of classes beforehand."
      ]
    },
    {
      "cell_type": "code",
      "execution_count": 8,
      "metadata": {
        "colab": {
          "base_uri": "https://localhost:8080/"
        },
        "id": "5BbqZU67bEUP",
        "outputId": "5d5e2296-b2c7-4599-aea3-6746b34c2b27"
      },
      "outputs": [
        {
          "output_type": "execute_result",
          "data": {
            "text/plain": [
              "20"
            ]
          },
          "metadata": {},
          "execution_count": 8
        }
      ],
      "source": [
        "num_classes = len(np.unique(y_train))\n",
        "num_classes"
      ]
    },
    {
      "cell_type": "markdown",
      "metadata": {
        "id": "gj_a2B6GbEUS"
      },
      "source": [
        "## Build a model\n",
        "\n",
        "We build a Fully Convolutional Neural Network originally proposed in\n",
        "[this paper](https://arxiv.org/abs/1611.06455).\n",
        "The implementation is based on the TF 2 version provided\n",
        "[here](https://github.com/hfawaz/dl-4-tsc/).\n",
        "The following hyperparameters (kernel_size, filters, the usage of BatchNorm) were found\n",
        "via random search using [KerasTuner](https://github.com/keras-team/keras-tuner)."
      ]
    },
    {
      "cell_type": "code",
      "execution_count": 9,
      "metadata": {
        "colab": {
          "base_uri": "https://localhost:8080/",
          "height": 1000
        },
        "id": "6zavGKkgbEUS",
        "outputId": "9a2e4bd1-8697-4220-b479-02686a6bf706"
      },
      "outputs": [
        {
          "output_type": "execute_result",
          "data": {
            "image/png": "[encoded data removed]",
            "text/plain": [
              "<IPython.core.display.Image object>"
            ]
          },
          "metadata": {},
          "execution_count": 9
        }
      ],
      "source": [
        "def make_model(input_shape):\n",
        "    input_layer = keras.layers.Input(input_shape)\n",
        "\n",
        "    conv1 = keras.layers.Conv1D(filters=64, kernel_size=3, padding=\"same\")(input_layer)\n",
        "    conv1 = keras.layers.BatchNormalization()(conv1)\n",
        "    conv1 = keras.layers.ReLU()(conv1)\n",
        "\n",
        "    conv2 = keras.layers.Conv1D(filters=64, kernel_size=3, padding=\"same\")(conv1)\n",
        "    conv2 = keras.layers.BatchNormalization()(conv2)\n",
        "    conv2 = keras.layers.ReLU()(conv2)\n",
        "\n",
        "    conv3 = keras.layers.Conv1D(filters=64, kernel_size=3, padding=\"same\")(conv2)\n",
        "    conv3 = keras.layers.BatchNormalization()(conv3)\n",
        "    conv3 = keras.layers.ReLU()(conv3)\n",
        "\n",
        "    gap = keras.layers.GlobalAveragePooling1D()(conv3)\n",
        "\n",
        "    output_layer = keras.layers.Dense(num_classes, activation=\"softmax\")(gap)\n",
        "\n",
        "    return keras.models.Model(inputs=input_layer, outputs=output_layer)\n",
        "\n",
        "\n",
        "model = make_model(input_shape=x_train.shape[1:])\n",
        "keras.utils.plot_model(model, show_shapes=True)"
      ]
    },
    {
      "cell_type": "markdown",
      "metadata": {
        "id": "gDViTuY5bEUT"
      },
      "source": [
        "## Train the model"
      ]
    },
    {
      "cell_type": "code",
      "execution_count": 10,
      "metadata": {
        "colab": {
          "base_uri": "https://localhost:8080/"
        },
        "id": "pvn80R-KbEUT",
        "outputId": "dacf5c6e-8996-45ed-b85a-66d50794a6c8"
      },
      "outputs": [
        {
          "output_type": "stream",
          "name": "stdout",
          "text": [
            "Epoch 1/500\n",
            "150/150 [==============================] - 4s 7ms/step - loss: 0.9372 - sparse_categorical_accuracy: 0.7892 - val_loss: 4.9176 - val_sparse_categorical_accuracy: 0.0000e+00 - lr: 0.0010\n",
            "Epoch 2/500\n",
            "150/150 [==============================] - 1s 5ms/step - loss: 0.3327 - sparse_categorical_accuracy: 0.9210 - val_loss: 6.6474 - val_sparse_categorical_accuracy: 0.0000e+00 - lr: 0.0010\n",
            "Epoch 3/500\n",
            "150/150 [==============================] - 1s 5ms/step - loss: 0.2152 - sparse_categorical_accuracy: 0.9454 - val_loss: 7.7698 - val_sparse_categorical_accuracy: 0.0000e+00 - lr: 0.0010\n",
            "Epoch 4/500\n",
            "150/150 [==============================] - 1s 5ms/step - loss: 0.1363 - sparse_categorical_accuracy: 0.9681 - val_loss: 8.1399 - val_sparse_categorical_accuracy: 0.0000e+00 - lr: 0.0010\n",
            "Epoch 5/500\n",
            "150/150 [==============================] - 1s 5ms/step - loss: 0.1054 - sparse_categorical_accuracy: 0.9729 - val_loss: 8.5426 - val_sparse_categorical_accuracy: 0.0000e+00 - lr: 0.0010\n",
            "Epoch 6/500\n",
            "150/150 [==============================] - 1s 5ms/step - loss: 0.0871 - sparse_categorical_accuracy: 0.9779 - val_loss: 9.2889 - val_sparse_categorical_accuracy: 0.0000e+00 - lr: 0.0010\n",
            "Epoch 7/500\n",
            "150/150 [==============================] - 1s 5ms/step - loss: 0.0603 - sparse_categorical_accuracy: 0.9858 - val_loss: 9.4952 - val_sparse_categorical_accuracy: 0.0000e+00 - lr: 0.0010\n",
            "Epoch 8/500\n",
            "150/150 [==============================] - 1s 5ms/step - loss: 0.0506 - sparse_categorical_accuracy: 0.9906 - val_loss: 9.7769 - val_sparse_categorical_accuracy: 0.0000e+00 - lr: 0.0010\n",
            "Epoch 9/500\n",
            "150/150 [==============================] - 1s 5ms/step - loss: 0.0438 - sparse_categorical_accuracy: 0.9892 - val_loss: 9.5480 - val_sparse_categorical_accuracy: 0.0000e+00 - lr: 0.0010\n",
            "Epoch 10/500\n",
            "150/150 [==============================] - 1s 5ms/step - loss: 0.0385 - sparse_categorical_accuracy: 0.9910 - val_loss: 10.4442 - val_sparse_categorical_accuracy: 0.0000e+00 - lr: 0.0010\n",
            "Epoch 11/500\n",
            "150/150 [==============================] - 1s 5ms/step - loss: 0.0318 - sparse_categorical_accuracy: 0.9937 - val_loss: 10.2746 - val_sparse_categorical_accuracy: 0.0000e+00 - lr: 0.0010\n",
            "Epoch 12/500\n",
            "150/150 [==============================] - 1s 5ms/step - loss: 0.0289 - sparse_categorical_accuracy: 0.9933 - val_loss: 10.3678 - val_sparse_categorical_accuracy: 0.0000e+00 - lr: 0.0010\n",
            "Epoch 13/500\n",
            "150/150 [==============================] - 1s 5ms/step - loss: 0.0223 - sparse_categorical_accuracy: 0.9954 - val_loss: 10.9642 - val_sparse_categorical_accuracy: 0.0000e+00 - lr: 0.0010\n",
            "Epoch 14/500\n",
            "150/150 [==============================] - 1s 5ms/step - loss: 0.0199 - sparse_categorical_accuracy: 0.9948 - val_loss: 10.9819 - val_sparse_categorical_accuracy: 0.0000e+00 - lr: 0.0010\n",
            "Epoch 15/500\n",
            "150/150 [==============================] - 1s 5ms/step - loss: 0.0324 - sparse_categorical_accuracy: 0.9902 - val_loss: 10.5573 - val_sparse_categorical_accuracy: 0.0000e+00 - lr: 0.0010\n",
            "Epoch 16/500\n",
            "150/150 [==============================] - 1s 5ms/step - loss: 0.0313 - sparse_categorical_accuracy: 0.9912 - val_loss: 12.4763 - val_sparse_categorical_accuracy: 0.0000e+00 - lr: 0.0010\n",
            "Epoch 17/500\n",
            "150/150 [==============================] - 1s 5ms/step - loss: 0.0240 - sparse_categorical_accuracy: 0.9937 - val_loss: 11.4855 - val_sparse_categorical_accuracy: 0.0000e+00 - lr: 0.0010\n",
            "Epoch 18/500\n",
            "150/150 [==============================] - 1s 5ms/step - loss: 0.0191 - sparse_categorical_accuracy: 0.9948 - val_loss: 11.8274 - val_sparse_categorical_accuracy: 0.0000e+00 - lr: 0.0010\n",
            "Epoch 19/500\n",
            "150/150 [==============================] - 1s 5ms/step - loss: 0.0229 - sparse_categorical_accuracy: 0.9935 - val_loss: 11.3882 - val_sparse_categorical_accuracy: 0.0000e+00 - lr: 0.0010\n",
            "Epoch 20/500\n",
            "150/150 [==============================] - 1s 5ms/step - loss: 0.0150 - sparse_categorical_accuracy: 0.9973 - val_loss: 10.8733 - val_sparse_categorical_accuracy: 0.0000e+00 - lr: 0.0010\n",
            "Epoch 21/500\n",
            "150/150 [==============================] - 1s 5ms/step - loss: 0.0164 - sparse_categorical_accuracy: 0.9962 - val_loss: 11.7837 - val_sparse_categorical_accuracy: 0.0000e+00 - lr: 0.0010\n",
            "Epoch 22/500\n",
            "150/150 [==============================] - 1s 5ms/step - loss: 0.0074 - sparse_categorical_accuracy: 0.9992 - val_loss: 11.3168 - val_sparse_categorical_accuracy: 0.0000e+00 - lr: 5.0000e-04\n",
            "Epoch 23/500\n",
            "150/150 [==============================] - 1s 5ms/step - loss: 0.0058 - sparse_categorical_accuracy: 0.9994 - val_loss: 11.4690 - val_sparse_categorical_accuracy: 0.0000e+00 - lr: 5.0000e-04\n",
            "Epoch 24/500\n",
            "150/150 [==============================] - 1s 5ms/step - loss: 0.0047 - sparse_categorical_accuracy: 0.9996 - val_loss: 11.5615 - val_sparse_categorical_accuracy: 0.0000e+00 - lr: 5.0000e-04\n",
            "Epoch 25/500\n",
            "150/150 [==============================] - 1s 5ms/step - loss: 0.0039 - sparse_categorical_accuracy: 0.9996 - val_loss: 11.7016 - val_sparse_categorical_accuracy: 0.0000e+00 - lr: 5.0000e-04\n",
            "Epoch 26/500\n",
            "150/150 [==============================] - 1s 5ms/step - loss: 0.0038 - sparse_categorical_accuracy: 0.9994 - val_loss: 11.5366 - val_sparse_categorical_accuracy: 0.0000e+00 - lr: 5.0000e-04\n",
            "Epoch 27/500\n",
            "150/150 [==============================] - 1s 5ms/step - loss: 0.0025 - sparse_categorical_accuracy: 1.0000 - val_loss: 11.6317 - val_sparse_categorical_accuracy: 0.0000e+00 - lr: 5.0000e-04\n",
            "Epoch 28/500\n",
            "150/150 [==============================] - 1s 5ms/step - loss: 0.0022 - sparse_categorical_accuracy: 1.0000 - val_loss: 11.5867 - val_sparse_categorical_accuracy: 0.0000e+00 - lr: 5.0000e-04\n",
            "Epoch 29/500\n",
            "150/150 [==============================] - 1s 5ms/step - loss: 0.0025 - sparse_categorical_accuracy: 0.9996 - val_loss: 12.0869 - val_sparse_categorical_accuracy: 0.0000e+00 - lr: 5.0000e-04\n",
            "Epoch 30/500\n",
            "150/150 [==============================] - 1s 5ms/step - loss: 0.0023 - sparse_categorical_accuracy: 1.0000 - val_loss: 11.8998 - val_sparse_categorical_accuracy: 0.0000e+00 - lr: 5.0000e-04\n",
            "Epoch 31/500\n",
            "150/150 [==============================] - 1s 5ms/step - loss: 0.0043 - sparse_categorical_accuracy: 0.9990 - val_loss: 12.3831 - val_sparse_categorical_accuracy: 0.0000e+00 - lr: 5.0000e-04\n",
            "Epoch 32/500\n",
            "150/150 [==============================] - 1s 5ms/step - loss: 0.0076 - sparse_categorical_accuracy: 0.9987 - val_loss: 11.9359 - val_sparse_categorical_accuracy: 0.0000e+00 - lr: 5.0000e-04\n",
            "Epoch 33/500\n",
            "150/150 [==============================] - 1s 5ms/step - loss: 0.0061 - sparse_categorical_accuracy: 0.9987 - val_loss: 12.4980 - val_sparse_categorical_accuracy: 0.0000e+00 - lr: 5.0000e-04\n",
            "Epoch 34/500\n",
            "150/150 [==============================] - 1s 5ms/step - loss: 0.0040 - sparse_categorical_accuracy: 0.9996 - val_loss: 11.9545 - val_sparse_categorical_accuracy: 0.0000e+00 - lr: 5.0000e-04\n",
            "Epoch 35/500\n",
            "150/150 [==============================] - 1s 5ms/step - loss: 0.0068 - sparse_categorical_accuracy: 0.9981 - val_loss: 11.7250 - val_sparse_categorical_accuracy: 0.0000e+00 - lr: 5.0000e-04\n",
            "Epoch 36/500\n",
            "150/150 [==============================] - 1s 5ms/step - loss: 0.0029 - sparse_categorical_accuracy: 0.9996 - val_loss: 12.0321 - val_sparse_categorical_accuracy: 0.0000e+00 - lr: 5.0000e-04\n",
            "Epoch 37/500\n",
            "150/150 [==============================] - 1s 5ms/step - loss: 0.0019 - sparse_categorical_accuracy: 1.0000 - val_loss: 11.9318 - val_sparse_categorical_accuracy: 0.0000e+00 - lr: 5.0000e-04\n",
            "Epoch 38/500\n",
            "150/150 [==============================] - 1s 5ms/step - loss: 0.0077 - sparse_categorical_accuracy: 0.9975 - val_loss: 12.7962 - val_sparse_categorical_accuracy: 0.0000e+00 - lr: 5.0000e-04\n",
            "Epoch 39/500\n",
            "150/150 [==============================] - 1s 5ms/step - loss: 0.0109 - sparse_categorical_accuracy: 0.9973 - val_loss: 12.9942 - val_sparse_categorical_accuracy: 0.0000e+00 - lr: 5.0000e-04\n",
            "Epoch 40/500\n",
            "150/150 [==============================] - 1s 5ms/step - loss: 0.0073 - sparse_categorical_accuracy: 0.9981 - val_loss: 12.6361 - val_sparse_categorical_accuracy: 0.0000e+00 - lr: 5.0000e-04\n",
            "Epoch 41/500\n",
            "150/150 [==============================] - 1s 5ms/step - loss: 0.0025 - sparse_categorical_accuracy: 0.9998 - val_loss: 12.3541 - val_sparse_categorical_accuracy: 0.0000e+00 - lr: 5.0000e-04\n",
            "Epoch 42/500\n",
            "150/150 [==============================] - 1s 5ms/step - loss: 0.0025 - sparse_categorical_accuracy: 0.9996 - val_loss: 12.1961 - val_sparse_categorical_accuracy: 0.0000e+00 - lr: 2.5000e-04\n",
            "Epoch 43/500\n",
            "150/150 [==============================] - 1s 5ms/step - loss: 0.0015 - sparse_categorical_accuracy: 1.0000 - val_loss: 12.3668 - val_sparse_categorical_accuracy: 0.0000e+00 - lr: 2.5000e-04\n",
            "Epoch 44/500\n",
            "150/150 [==============================] - 1s 5ms/step - loss: 0.0012 - sparse_categorical_accuracy: 1.0000 - val_loss: 12.3440 - val_sparse_categorical_accuracy: 0.0000e+00 - lr: 2.5000e-04\n",
            "Epoch 45/500\n",
            "150/150 [==============================] - 1s 5ms/step - loss: 0.0011 - sparse_categorical_accuracy: 1.0000 - val_loss: 12.5039 - val_sparse_categorical_accuracy: 0.0000e+00 - lr: 2.5000e-04\n",
            "Epoch 46/500\n",
            "150/150 [==============================] - 1s 5ms/step - loss: 0.0013 - sparse_categorical_accuracy: 1.0000 - val_loss: 12.4212 - val_sparse_categorical_accuracy: 0.0000e+00 - lr: 2.5000e-04\n",
            "Epoch 47/500\n",
            "150/150 [==============================] - 1s 5ms/step - loss: 8.3882e-04 - sparse_categorical_accuracy: 1.0000 - val_loss: 12.4198 - val_sparse_categorical_accuracy: 0.0000e+00 - lr: 2.5000e-04\n",
            "Epoch 48/500\n",
            "150/150 [==============================] - 1s 5ms/step - loss: 8.5476e-04 - sparse_categorical_accuracy: 1.0000 - val_loss: 12.5811 - val_sparse_categorical_accuracy: 0.0000e+00 - lr: 2.5000e-04\n",
            "Epoch 49/500\n",
            "150/150 [==============================] - 1s 5ms/step - loss: 7.2551e-04 - sparse_categorical_accuracy: 1.0000 - val_loss: 12.5857 - val_sparse_categorical_accuracy: 0.0000e+00 - lr: 2.5000e-04\n",
            "Epoch 50/500\n",
            "150/150 [==============================] - 1s 5ms/step - loss: 0.0015 - sparse_categorical_accuracy: 0.9998 - val_loss: 12.3812 - val_sparse_categorical_accuracy: 0.0000e+00 - lr: 2.5000e-04\n",
            "Epoch 51/500\n",
            "150/150 [==============================] - 1s 5ms/step - loss: 8.2101e-04 - sparse_categorical_accuracy: 1.0000 - val_loss: 12.6557 - val_sparse_categorical_accuracy: 0.0000e+00 - lr: 2.5000e-04\n",
            "Epoch 51: early stopping\n"
          ]
        }
      ],
      "source": [
        "epochs = 500\n",
        "batch_size = 32\n",
        "\n",
        "callbacks = [\n",
        "    keras.callbacks.ModelCheckpoint(\n",
        "        \"limited_data_model.h5\", save_best_only=True, monitor=\"val_loss\"\n",
        "    ),\n",
        "    keras.callbacks.ReduceLROnPlateau(\n",
        "        monitor=\"val_loss\", factor=0.5, patience=20, min_lr=0.0001\n",
        "    ),\n",
        "    keras.callbacks.EarlyStopping(monitor=\"val_loss\", patience=50, verbose=1),\n",
        "]\n",
        "model.compile(\n",
        "    optimizer=\"adam\",\n",
        "    loss=\"sparse_categorical_crossentropy\",\n",
        "    metrics=[\"sparse_categorical_accuracy\"],\n",
        ")\n",
        "history = model.fit(\n",
        "    x_train,\n",
        "    y_train,\n",
        "    batch_size=batch_size,\n",
        "    epochs=epochs,\n",
        "    callbacks=callbacks,\n",
        "    validation_split=0.2,\n",
        "    verbose=1,\n",
        ")"
      ]
    },
    {
      "cell_type": "markdown",
      "metadata": {
        "id": "jOXdrX_MbEUU"
      },
      "source": [
        "## Evaluate model on test data"
      ]
    },
    {
      "cell_type": "code",
      "execution_count": 11,
      "metadata": {
        "colab": {
          "base_uri": "https://localhost:8080/"
        },
        "id": "XNAjvqutbEUV",
        "outputId": "329acd08-7f7f-4e34-ed01-43a33fdc0e4d"
      },
      "outputs": [
        {
          "output_type": "stream",
          "name": "stdout",
          "text": [
            "313/313 [==============================] - 1s 3ms/step - loss: 1.4685 - sparse_categorical_accuracy: 0.7135\n",
            "Test accuracy 0.7135000228881836\n",
            "Test loss 1.4685369729995728\n"
          ]
        }
      ],
      "source": [
        "model = keras.models.load_model(\"limited_data_model.h5\")\n",
        "\n",
        "test_loss, test_acc = model.evaluate(x_test, y_test)\n",
        "\n",
        "print(\"Test accuracy\", test_acc)\n",
        "print(\"Test loss\", test_loss)"
      ]
    },
    {
      "cell_type": "markdown",
      "metadata": {
        "id": "VWlQvv1WbEUV"
      },
      "source": [
        "## Plot the model's training and validation loss"
      ]
    },
    {
      "cell_type": "code",
      "execution_count": 12,
      "metadata": {
        "colab": {
          "base_uri": "https://localhost:8080/",
          "height": 298
        },
        "id": "GEdHPhUEbEUW",
        "outputId": "cb8f8047-1134-4bc3-dd98-69f44076f1d2"
      },
      "outputs": [
        {
          "output_type": "display_data",
          "data": {
            "text/plain": [
              "<Figure size 432x288 with 1 Axes>"
            ],
            "image/png": "[encoded data removed]"
          },
          "metadata": {
            "needs_background": "light"
          }
        }
      ],
      "source": [
        "metric = \"sparse_categorical_accuracy\"\n",
        "plt.figure()\n",
        "plt.plot(history.history[metric])\n",
        "plt.plot(history.history[\"val_\" + metric])\n",
        "plt.title(\"model \" + metric)\n",
        "plt.ylabel(metric, fontsize=\"large\")\n",
        "plt.xlabel(\"epoch\", fontsize=\"large\")\n",
        "plt.legend([\"train\", \"val\"], loc=\"best\")\n",
        "plt.show()\n",
        "plt.close()"
      ]
    },
    {
      "cell_type": "markdown",
      "metadata": {
        "id": "mP3_qYb9vSVW"
      },
      "source": [
        "## Limited Data Plus Syntetic GP-VAE Generated Data"
      ]
    },
    {
      "cell_type": "code",
      "source": [
        "data2 = np.load(INPUT_DIR + '/generated_data/imputed_no_gt.npy')\n",
        "data2.shape"
      ],
      "metadata": {
        "colab": {
          "base_uri": "https://localhost:8080/"
        },
        "id": "4BXwA_7J2gdR",
        "outputId": "563267ee-2eb0-4323-e27e-5b2a0d7c93ae"
      },
      "execution_count": 13,
      "outputs": [
        {
          "output_type": "execute_result",
          "data": {
            "text/plain": [
              "(6000, 10, 784)"
            ]
          },
          "metadata": {},
          "execution_count": 13
        }
      ]
    },
    {
      "cell_type": "code",
      "source": [
        "x_train_saved = x_train.copy()\n",
        "y_train_saved = y_train.copy()"
      ],
      "metadata": {
        "id": "GNgTZJKOUpzt"
      },
      "execution_count": 14,
      "outputs": []
    },
    {
      "cell_type": "code",
      "execution_count": 15,
      "metadata": {
        "colab": {
          "base_uri": "https://localhost:8080/"
        },
        "id": "XGEOFIlhvaZy",
        "outputId": "93279604-aa66-4c52-bc57-cd66101ca6cc"
      },
      "outputs": [
        {
          "output_type": "execute_result",
          "data": {
            "text/plain": [
              "((12000, 10, 784), (12000,))"
            ]
          },
          "metadata": {},
          "execution_count": 15
        }
      ],
      "source": [
        "x_train, y_train = np.concatenate((x_train, data2)), np.concatenate((y_train, y_train))\n",
        "x_train.shape, y_train.shape"
      ]
    },
    {
      "cell_type": "markdown",
      "metadata": {
        "id": "YmUdV4vKvny5"
      },
      "source": [
        "## Train Model"
      ]
    },
    {
      "cell_type": "code",
      "execution_count": 26,
      "metadata": {
        "colab": {
          "base_uri": "https://localhost:8080/"
        },
        "id": "8y_rdF3CvpQ2",
        "outputId": "0fc2a8f3-ae35-47f9-f9ad-5a1b7c44327d"
      },
      "outputs": [
        {
          "output_type": "stream",
          "name": "stdout",
          "text": [
            "Epoch 1/1000\n",
            "300/300 [==============================] - 3s 6ms/step - loss: 0.7851 - sparse_categorical_accuracy: 0.8261 - val_loss: 0.6113 - val_sparse_categorical_accuracy: 0.8171 - lr: 0.0010\n",
            "Epoch 2/1000\n",
            "300/300 [==============================] - 2s 5ms/step - loss: 0.2557 - sparse_categorical_accuracy: 0.9371 - val_loss: 0.2793 - val_sparse_categorical_accuracy: 0.9229 - lr: 0.0010\n",
            "Epoch 3/1000\n",
            "300/300 [==============================] - 2s 5ms/step - loss: 0.1750 - sparse_categorical_accuracy: 0.9521 - val_loss: 0.2175 - val_sparse_categorical_accuracy: 0.9329 - lr: 0.0010\n",
            "Epoch 4/1000\n",
            "300/300 [==============================] - 2s 5ms/step - loss: 0.1265 - sparse_categorical_accuracy: 0.9634 - val_loss: 0.2053 - val_sparse_categorical_accuracy: 0.9508 - lr: 0.0010\n",
            "Epoch 5/1000\n",
            "300/300 [==============================] - 1s 5ms/step - loss: 0.1007 - sparse_categorical_accuracy: 0.9706 - val_loss: 0.2202 - val_sparse_categorical_accuracy: 0.9488 - lr: 0.0010\n",
            "Epoch 6/1000\n",
            "300/300 [==============================] - 2s 5ms/step - loss: 0.0806 - sparse_categorical_accuracy: 0.9773 - val_loss: 0.1489 - val_sparse_categorical_accuracy: 0.9588 - lr: 0.0010\n",
            "Epoch 7/1000\n",
            "300/300 [==============================] - 2s 5ms/step - loss: 0.0559 - sparse_categorical_accuracy: 0.9853 - val_loss: 0.1416 - val_sparse_categorical_accuracy: 0.9567 - lr: 0.0010\n",
            "Epoch 8/1000\n",
            "300/300 [==============================] - 1s 5ms/step - loss: 0.0493 - sparse_categorical_accuracy: 0.9868 - val_loss: 0.1662 - val_sparse_categorical_accuracy: 0.9458 - lr: 0.0010\n",
            "Epoch 9/1000\n",
            "300/300 [==============================] - 1s 5ms/step - loss: 0.0451 - sparse_categorical_accuracy: 0.9869 - val_loss: 0.1068 - val_sparse_categorical_accuracy: 0.9663 - lr: 0.0010\n",
            "Epoch 10/1000\n",
            "300/300 [==============================] - 1s 5ms/step - loss: 0.0398 - sparse_categorical_accuracy: 0.9893 - val_loss: 0.3011 - val_sparse_categorical_accuracy: 0.9325 - lr: 0.0010\n",
            "Epoch 11/1000\n",
            "300/300 [==============================] - 1s 5ms/step - loss: 0.0325 - sparse_categorical_accuracy: 0.9902 - val_loss: 0.1283 - val_sparse_categorical_accuracy: 0.9588 - lr: 0.0010\n",
            "Epoch 12/1000\n",
            "300/300 [==============================] - 1s 5ms/step - loss: 0.0305 - sparse_categorical_accuracy: 0.9919 - val_loss: 0.1410 - val_sparse_categorical_accuracy: 0.9737 - lr: 0.0010\n",
            "Epoch 13/1000\n",
            "300/300 [==============================] - 1s 5ms/step - loss: 0.0295 - sparse_categorical_accuracy: 0.9904 - val_loss: 0.0822 - val_sparse_categorical_accuracy: 0.9704 - lr: 0.0010\n",
            "Epoch 14/1000\n",
            "300/300 [==============================] - 1s 5ms/step - loss: 0.0328 - sparse_categorical_accuracy: 0.9900 - val_loss: 0.2413 - val_sparse_categorical_accuracy: 0.9558 - lr: 0.0010\n",
            "Epoch 15/1000\n",
            "300/300 [==============================] - 1s 5ms/step - loss: 0.0303 - sparse_categorical_accuracy: 0.9909 - val_loss: 0.2404 - val_sparse_categorical_accuracy: 0.9471 - lr: 0.0010\n",
            "Epoch 16/1000\n",
            "300/300 [==============================] - 2s 5ms/step - loss: 0.0207 - sparse_categorical_accuracy: 0.9942 - val_loss: 0.2412 - val_sparse_categorical_accuracy: 0.9583 - lr: 0.0010\n",
            "Epoch 17/1000\n",
            "300/300 [==============================] - 2s 6ms/step - loss: 0.0248 - sparse_categorical_accuracy: 0.9922 - val_loss: 0.2651 - val_sparse_categorical_accuracy: 0.9408 - lr: 0.0010\n",
            "Epoch 18/1000\n",
            "300/300 [==============================] - 2s 6ms/step - loss: 0.0199 - sparse_categorical_accuracy: 0.9935 - val_loss: 0.3635 - val_sparse_categorical_accuracy: 0.9346 - lr: 0.0010\n",
            "Epoch 19/1000\n",
            "300/300 [==============================] - 2s 6ms/step - loss: 0.0210 - sparse_categorical_accuracy: 0.9941 - val_loss: 0.1939 - val_sparse_categorical_accuracy: 0.9517 - lr: 0.0010\n",
            "Epoch 20/1000\n",
            "300/300 [==============================] - 2s 6ms/step - loss: 0.0215 - sparse_categorical_accuracy: 0.9941 - val_loss: 0.2007 - val_sparse_categorical_accuracy: 0.9588 - lr: 0.0010\n",
            "Epoch 21/1000\n",
            "300/300 [==============================] - 2s 6ms/step - loss: 0.0170 - sparse_categorical_accuracy: 0.9955 - val_loss: 0.1178 - val_sparse_categorical_accuracy: 0.9654 - lr: 0.0010\n",
            "Epoch 22/1000\n",
            "300/300 [==============================] - 2s 6ms/step - loss: 0.0183 - sparse_categorical_accuracy: 0.9941 - val_loss: 0.0555 - val_sparse_categorical_accuracy: 0.9721 - lr: 0.0010\n",
            "Epoch 23/1000\n",
            "300/300 [==============================] - 2s 6ms/step - loss: 0.0187 - sparse_categorical_accuracy: 0.9944 - val_loss: 0.2092 - val_sparse_categorical_accuracy: 0.9625 - lr: 0.0010\n",
            "Epoch 24/1000\n",
            "300/300 [==============================] - 2s 6ms/step - loss: 0.0213 - sparse_categorical_accuracy: 0.9935 - val_loss: 0.1888 - val_sparse_categorical_accuracy: 0.9600 - lr: 0.0010\n",
            "Epoch 25/1000\n",
            "300/300 [==============================] - 2s 6ms/step - loss: 0.0158 - sparse_categorical_accuracy: 0.9952 - val_loss: 0.2128 - val_sparse_categorical_accuracy: 0.9417 - lr: 0.0010\n",
            "Epoch 26/1000\n",
            "300/300 [==============================] - 2s 6ms/step - loss: 0.0203 - sparse_categorical_accuracy: 0.9944 - val_loss: 0.0483 - val_sparse_categorical_accuracy: 0.9837 - lr: 0.0010\n",
            "Epoch 27/1000\n",
            "300/300 [==============================] - 2s 6ms/step - loss: 0.0167 - sparse_categorical_accuracy: 0.9944 - val_loss: 0.1059 - val_sparse_categorical_accuracy: 0.9667 - lr: 0.0010\n",
            "Epoch 28/1000\n",
            "300/300 [==============================] - 2s 6ms/step - loss: 0.0129 - sparse_categorical_accuracy: 0.9958 - val_loss: 0.1058 - val_sparse_categorical_accuracy: 0.9663 - lr: 0.0010\n",
            "Epoch 29/1000\n",
            "300/300 [==============================] - 2s 6ms/step - loss: 0.0089 - sparse_categorical_accuracy: 0.9975 - val_loss: 0.1240 - val_sparse_categorical_accuracy: 0.9650 - lr: 0.0010\n",
            "Epoch 30/1000\n",
            "300/300 [==============================] - 2s 6ms/step - loss: 0.0130 - sparse_categorical_accuracy: 0.9961 - val_loss: 0.1179 - val_sparse_categorical_accuracy: 0.9717 - lr: 0.0010\n",
            "Epoch 31/1000\n",
            "300/300 [==============================] - 2s 6ms/step - loss: 0.0207 - sparse_categorical_accuracy: 0.9932 - val_loss: 0.1609 - val_sparse_categorical_accuracy: 0.9513 - lr: 0.0010\n",
            "Epoch 32/1000\n",
            "300/300 [==============================] - 2s 6ms/step - loss: 0.0118 - sparse_categorical_accuracy: 0.9964 - val_loss: 0.2269 - val_sparse_categorical_accuracy: 0.9579 - lr: 0.0010\n",
            "Epoch 33/1000\n",
            "300/300 [==============================] - 2s 6ms/step - loss: 0.0199 - sparse_categorical_accuracy: 0.9941 - val_loss: 0.1989 - val_sparse_categorical_accuracy: 0.9467 - lr: 0.0010\n",
            "Epoch 34/1000\n",
            "300/300 [==============================] - 2s 6ms/step - loss: 0.0126 - sparse_categorical_accuracy: 0.9960 - val_loss: 0.1246 - val_sparse_categorical_accuracy: 0.9638 - lr: 0.0010\n",
            "Epoch 35/1000\n",
            "300/300 [==============================] - 2s 6ms/step - loss: 0.0175 - sparse_categorical_accuracy: 0.9945 - val_loss: 0.2928 - val_sparse_categorical_accuracy: 0.9613 - lr: 0.0010\n",
            "Epoch 36/1000\n",
            "300/300 [==============================] - 2s 6ms/step - loss: 0.0095 - sparse_categorical_accuracy: 0.9975 - val_loss: 0.2810 - val_sparse_categorical_accuracy: 0.9596 - lr: 0.0010\n",
            "Epoch 37/1000\n",
            "300/300 [==============================] - 2s 6ms/step - loss: 0.0101 - sparse_categorical_accuracy: 0.9973 - val_loss: 0.2484 - val_sparse_categorical_accuracy: 0.9517 - lr: 0.0010\n",
            "Epoch 38/1000\n",
            "300/300 [==============================] - 2s 6ms/step - loss: 0.0090 - sparse_categorical_accuracy: 0.9975 - val_loss: 0.1489 - val_sparse_categorical_accuracy: 0.9521 - lr: 0.0010\n",
            "Epoch 39/1000\n",
            "300/300 [==============================] - 2s 6ms/step - loss: 0.0068 - sparse_categorical_accuracy: 0.9980 - val_loss: 0.1583 - val_sparse_categorical_accuracy: 0.9525 - lr: 0.0010\n",
            "Epoch 40/1000\n",
            "300/300 [==============================] - 2s 6ms/step - loss: 0.0175 - sparse_categorical_accuracy: 0.9950 - val_loss: 0.1519 - val_sparse_categorical_accuracy: 0.9538 - lr: 0.0010\n",
            "Epoch 41/1000\n",
            "300/300 [==============================] - 2s 6ms/step - loss: 0.0133 - sparse_categorical_accuracy: 0.9971 - val_loss: 0.0886 - val_sparse_categorical_accuracy: 0.9754 - lr: 0.0010\n",
            "Epoch 42/1000\n",
            "300/300 [==============================] - 2s 6ms/step - loss: 0.0070 - sparse_categorical_accuracy: 0.9985 - val_loss: 0.1772 - val_sparse_categorical_accuracy: 0.9421 - lr: 0.0010\n",
            "Epoch 43/1000\n",
            "300/300 [==============================] - 2s 6ms/step - loss: 0.0132 - sparse_categorical_accuracy: 0.9959 - val_loss: 0.1019 - val_sparse_categorical_accuracy: 0.9688 - lr: 0.0010\n",
            "Epoch 44/1000\n",
            "300/300 [==============================] - 2s 6ms/step - loss: 0.0070 - sparse_categorical_accuracy: 0.9976 - val_loss: 0.1223 - val_sparse_categorical_accuracy: 0.9592 - lr: 0.0010\n",
            "Epoch 45/1000\n",
            "300/300 [==============================] - 2s 6ms/step - loss: 0.0038 - sparse_categorical_accuracy: 0.9989 - val_loss: 0.1470 - val_sparse_categorical_accuracy: 0.9629 - lr: 0.0010\n",
            "Epoch 46/1000\n",
            "300/300 [==============================] - 2s 6ms/step - loss: 0.0076 - sparse_categorical_accuracy: 0.9972 - val_loss: 0.1508 - val_sparse_categorical_accuracy: 0.9646 - lr: 0.0010\n",
            "Epoch 47/1000\n",
            "300/300 [==============================] - 2s 6ms/step - loss: 0.0061 - sparse_categorical_accuracy: 0.9981 - val_loss: 0.1674 - val_sparse_categorical_accuracy: 0.9588 - lr: 5.0000e-04\n",
            "Epoch 48/1000\n",
            "300/300 [==============================] - 2s 6ms/step - loss: 0.0015 - sparse_categorical_accuracy: 1.0000 - val_loss: 0.1911 - val_sparse_categorical_accuracy: 0.9542 - lr: 5.0000e-04\n",
            "Epoch 49/1000\n",
            "300/300 [==============================] - 2s 5ms/step - loss: 0.0016 - sparse_categorical_accuracy: 0.9996 - val_loss: 0.1537 - val_sparse_categorical_accuracy: 0.9629 - lr: 5.0000e-04\n",
            "Epoch 50/1000\n",
            "300/300 [==============================] - 1s 5ms/step - loss: 0.0018 - sparse_categorical_accuracy: 0.9996 - val_loss: 0.1572 - val_sparse_categorical_accuracy: 0.9654 - lr: 5.0000e-04\n",
            "Epoch 51/1000\n",
            "300/300 [==============================] - 1s 5ms/step - loss: 0.0018 - sparse_categorical_accuracy: 0.9996 - val_loss: 0.1576 - val_sparse_categorical_accuracy: 0.9646 - lr: 5.0000e-04\n",
            "Epoch 52/1000\n",
            "300/300 [==============================] - 1s 5ms/step - loss: 9.0343e-04 - sparse_categorical_accuracy: 0.9999 - val_loss: 0.1304 - val_sparse_categorical_accuracy: 0.9638 - lr: 5.0000e-04\n",
            "Epoch 53/1000\n",
            "300/300 [==============================] - 1s 5ms/step - loss: 8.9916e-04 - sparse_categorical_accuracy: 0.9999 - val_loss: 0.1233 - val_sparse_categorical_accuracy: 0.9629 - lr: 5.0000e-04\n",
            "Epoch 54/1000\n",
            "300/300 [==============================] - 1s 5ms/step - loss: 7.0514e-04 - sparse_categorical_accuracy: 1.0000 - val_loss: 0.0904 - val_sparse_categorical_accuracy: 0.9667 - lr: 5.0000e-04\n",
            "Epoch 55/1000\n",
            "300/300 [==============================] - 1s 5ms/step - loss: 5.2325e-04 - sparse_categorical_accuracy: 1.0000 - val_loss: 0.0760 - val_sparse_categorical_accuracy: 0.9700 - lr: 5.0000e-04\n",
            "Epoch 56/1000\n",
            "300/300 [==============================] - 1s 5ms/step - loss: 0.0014 - sparse_categorical_accuracy: 0.9997 - val_loss: 0.1646 - val_sparse_categorical_accuracy: 0.9638 - lr: 5.0000e-04\n",
            "Epoch 57/1000\n",
            "300/300 [==============================] - 2s 5ms/step - loss: 0.0032 - sparse_categorical_accuracy: 0.9992 - val_loss: 0.1993 - val_sparse_categorical_accuracy: 0.9592 - lr: 5.0000e-04\n",
            "Epoch 58/1000\n",
            "300/300 [==============================] - 2s 5ms/step - loss: 0.0061 - sparse_categorical_accuracy: 0.9982 - val_loss: 0.1683 - val_sparse_categorical_accuracy: 0.9688 - lr: 5.0000e-04\n",
            "Epoch 59/1000\n",
            "300/300 [==============================] - 1s 5ms/step - loss: 0.0039 - sparse_categorical_accuracy: 0.9990 - val_loss: 0.1699 - val_sparse_categorical_accuracy: 0.9617 - lr: 5.0000e-04\n",
            "Epoch 60/1000\n",
            "300/300 [==============================] - 1s 5ms/step - loss: 0.0018 - sparse_categorical_accuracy: 0.9997 - val_loss: 0.0942 - val_sparse_categorical_accuracy: 0.9633 - lr: 5.0000e-04\n",
            "Epoch 61/1000\n",
            "300/300 [==============================] - 1s 5ms/step - loss: 0.0023 - sparse_categorical_accuracy: 0.9994 - val_loss: 0.1637 - val_sparse_categorical_accuracy: 0.9712 - lr: 5.0000e-04\n",
            "Epoch 62/1000\n",
            "300/300 [==============================] - 1s 5ms/step - loss: 0.0032 - sparse_categorical_accuracy: 0.9991 - val_loss: 0.1048 - val_sparse_categorical_accuracy: 0.9729 - lr: 5.0000e-04\n",
            "Epoch 63/1000\n",
            "300/300 [==============================] - 2s 5ms/step - loss: 9.6033e-04 - sparse_categorical_accuracy: 0.9999 - val_loss: 0.0981 - val_sparse_categorical_accuracy: 0.9688 - lr: 5.0000e-04\n",
            "Epoch 64/1000\n",
            "300/300 [==============================] - 2s 5ms/step - loss: 5.5704e-04 - sparse_categorical_accuracy: 0.9999 - val_loss: 0.0682 - val_sparse_categorical_accuracy: 0.9750 - lr: 5.0000e-04\n",
            "Epoch 65/1000\n",
            "300/300 [==============================] - 2s 5ms/step - loss: 5.1935e-04 - sparse_categorical_accuracy: 1.0000 - val_loss: 0.0459 - val_sparse_categorical_accuracy: 0.9804 - lr: 5.0000e-04\n",
            "Epoch 66/1000\n",
            "300/300 [==============================] - 2s 5ms/step - loss: 4.0808e-04 - sparse_categorical_accuracy: 1.0000 - val_loss: 0.0675 - val_sparse_categorical_accuracy: 0.9737 - lr: 5.0000e-04\n",
            "Epoch 67/1000\n",
            "300/300 [==============================] - 1s 5ms/step - loss: 0.0014 - sparse_categorical_accuracy: 0.9998 - val_loss: 0.0796 - val_sparse_categorical_accuracy: 0.9754 - lr: 5.0000e-04\n",
            "Epoch 68/1000\n",
            "300/300 [==============================] - 1s 5ms/step - loss: 0.0036 - sparse_categorical_accuracy: 0.9993 - val_loss: 0.1154 - val_sparse_categorical_accuracy: 0.9696 - lr: 5.0000e-04\n",
            "Epoch 69/1000\n",
            "300/300 [==============================] - 1s 5ms/step - loss: 0.0022 - sparse_categorical_accuracy: 0.9992 - val_loss: 0.2168 - val_sparse_categorical_accuracy: 0.9617 - lr: 5.0000e-04\n",
            "Epoch 70/1000\n",
            "300/300 [==============================] - 1s 5ms/step - loss: 0.0031 - sparse_categorical_accuracy: 0.9992 - val_loss: 0.1667 - val_sparse_categorical_accuracy: 0.9658 - lr: 5.0000e-04\n",
            "Epoch 71/1000\n",
            "300/300 [==============================] - 1s 5ms/step - loss: 0.0060 - sparse_categorical_accuracy: 0.9981 - val_loss: 0.2079 - val_sparse_categorical_accuracy: 0.9667 - lr: 5.0000e-04\n",
            "Epoch 72/1000\n",
            "300/300 [==============================] - 1s 5ms/step - loss: 0.0026 - sparse_categorical_accuracy: 0.9995 - val_loss: 0.1876 - val_sparse_categorical_accuracy: 0.9683 - lr: 5.0000e-04\n",
            "Epoch 73/1000\n",
            "300/300 [==============================] - 1s 5ms/step - loss: 0.0038 - sparse_categorical_accuracy: 0.9993 - val_loss: 0.1353 - val_sparse_categorical_accuracy: 0.9642 - lr: 5.0000e-04\n",
            "Epoch 74/1000\n",
            "300/300 [==============================] - 1s 5ms/step - loss: 0.0019 - sparse_categorical_accuracy: 0.9994 - val_loss: 0.1564 - val_sparse_categorical_accuracy: 0.9696 - lr: 5.0000e-04\n",
            "Epoch 75/1000\n",
            "300/300 [==============================] - 1s 5ms/step - loss: 0.0026 - sparse_categorical_accuracy: 0.9994 - val_loss: 0.2453 - val_sparse_categorical_accuracy: 0.9617 - lr: 5.0000e-04\n",
            "Epoch 76/1000\n",
            "300/300 [==============================] - 2s 5ms/step - loss: 0.0028 - sparse_categorical_accuracy: 0.9991 - val_loss: 0.2480 - val_sparse_categorical_accuracy: 0.9608 - lr: 5.0000e-04\n",
            "Epoch 77/1000\n",
            "300/300 [==============================] - 1s 5ms/step - loss: 0.0031 - sparse_categorical_accuracy: 0.9989 - val_loss: 0.2805 - val_sparse_categorical_accuracy: 0.9600 - lr: 5.0000e-04\n",
            "Epoch 78/1000\n",
            "300/300 [==============================] - 1s 5ms/step - loss: 0.0045 - sparse_categorical_accuracy: 0.9986 - val_loss: 0.1588 - val_sparse_categorical_accuracy: 0.9692 - lr: 5.0000e-04\n",
            "Epoch 79/1000\n",
            "300/300 [==============================] - 2s 5ms/step - loss: 0.0025 - sparse_categorical_accuracy: 0.9994 - val_loss: 0.1945 - val_sparse_categorical_accuracy: 0.9633 - lr: 5.0000e-04\n",
            "Epoch 80/1000\n",
            "300/300 [==============================] - 2s 5ms/step - loss: 0.0022 - sparse_categorical_accuracy: 0.9991 - val_loss: 0.2608 - val_sparse_categorical_accuracy: 0.9658 - lr: 5.0000e-04\n",
            "Epoch 81/1000\n",
            "300/300 [==============================] - 2s 5ms/step - loss: 0.0029 - sparse_categorical_accuracy: 0.9994 - val_loss: 0.2627 - val_sparse_categorical_accuracy: 0.9604 - lr: 5.0000e-04\n",
            "Epoch 82/1000\n",
            "300/300 [==============================] - 1s 5ms/step - loss: 0.0045 - sparse_categorical_accuracy: 0.9984 - val_loss: 0.2622 - val_sparse_categorical_accuracy: 0.9621 - lr: 5.0000e-04\n",
            "Epoch 83/1000\n",
            "300/300 [==============================] - 2s 5ms/step - loss: 0.0014 - sparse_categorical_accuracy: 0.9997 - val_loss: 0.2324 - val_sparse_categorical_accuracy: 0.9621 - lr: 5.0000e-04\n",
            "Epoch 84/1000\n",
            "300/300 [==============================] - 1s 5ms/step - loss: 0.0026 - sparse_categorical_accuracy: 0.9991 - val_loss: 0.2476 - val_sparse_categorical_accuracy: 0.9654 - lr: 5.0000e-04\n",
            "Epoch 85/1000\n",
            "300/300 [==============================] - 2s 5ms/step - loss: 0.0016 - sparse_categorical_accuracy: 0.9995 - val_loss: 0.2298 - val_sparse_categorical_accuracy: 0.9613 - lr: 5.0000e-04\n",
            "Epoch 86/1000\n",
            "300/300 [==============================] - 2s 5ms/step - loss: 0.0010 - sparse_categorical_accuracy: 0.9998 - val_loss: 0.2002 - val_sparse_categorical_accuracy: 0.9658 - lr: 2.5000e-04\n",
            "Epoch 87/1000\n",
            "300/300 [==============================] - 2s 5ms/step - loss: 6.2706e-04 - sparse_categorical_accuracy: 0.9999 - val_loss: 0.2158 - val_sparse_categorical_accuracy: 0.9650 - lr: 2.5000e-04\n",
            "Epoch 88/1000\n",
            "300/300 [==============================] - 2s 5ms/step - loss: 5.6490e-04 - sparse_categorical_accuracy: 0.9999 - val_loss: 0.2073 - val_sparse_categorical_accuracy: 0.9650 - lr: 2.5000e-04\n",
            "Epoch 89/1000\n",
            "300/300 [==============================] - 2s 5ms/step - loss: 5.8778e-04 - sparse_categorical_accuracy: 0.9999 - val_loss: 0.1727 - val_sparse_categorical_accuracy: 0.9646 - lr: 2.5000e-04\n",
            "Epoch 90/1000\n",
            "300/300 [==============================] - 2s 5ms/step - loss: 2.7807e-04 - sparse_categorical_accuracy: 1.0000 - val_loss: 0.1649 - val_sparse_categorical_accuracy: 0.9650 - lr: 2.5000e-04\n",
            "Epoch 91/1000\n",
            "300/300 [==============================] - 2s 5ms/step - loss: 2.2136e-04 - sparse_categorical_accuracy: 1.0000 - val_loss: 0.1552 - val_sparse_categorical_accuracy: 0.9658 - lr: 2.5000e-04\n",
            "Epoch 92/1000\n",
            "300/300 [==============================] - 2s 5ms/step - loss: 4.6641e-04 - sparse_categorical_accuracy: 0.9999 - val_loss: 0.1150 - val_sparse_categorical_accuracy: 0.9683 - lr: 2.5000e-04\n",
            "Epoch 93/1000\n",
            "300/300 [==============================] - 2s 5ms/step - loss: 0.0013 - sparse_categorical_accuracy: 0.9997 - val_loss: 0.0833 - val_sparse_categorical_accuracy: 0.9700 - lr: 2.5000e-04\n",
            "Epoch 94/1000\n",
            "300/300 [==============================] - 2s 5ms/step - loss: 7.3651e-04 - sparse_categorical_accuracy: 0.9998 - val_loss: 0.1366 - val_sparse_categorical_accuracy: 0.9663 - lr: 2.5000e-04\n",
            "Epoch 95/1000\n",
            "300/300 [==============================] - 1s 5ms/step - loss: 5.9736e-04 - sparse_categorical_accuracy: 0.9998 - val_loss: 0.1951 - val_sparse_categorical_accuracy: 0.9671 - lr: 2.5000e-04\n",
            "Epoch 96/1000\n",
            "300/300 [==============================] - 1s 5ms/step - loss: 6.8068e-04 - sparse_categorical_accuracy: 0.9998 - val_loss: 0.1807 - val_sparse_categorical_accuracy: 0.9658 - lr: 2.5000e-04\n",
            "Epoch 97/1000\n",
            "300/300 [==============================] - 2s 5ms/step - loss: 3.4185e-04 - sparse_categorical_accuracy: 1.0000 - val_loss: 0.1544 - val_sparse_categorical_accuracy: 0.9667 - lr: 2.5000e-04\n",
            "Epoch 98/1000\n",
            "300/300 [==============================] - 1s 5ms/step - loss: 3.0882e-04 - sparse_categorical_accuracy: 1.0000 - val_loss: 0.1282 - val_sparse_categorical_accuracy: 0.9663 - lr: 2.5000e-04\n",
            "Epoch 99/1000\n",
            "300/300 [==============================] - 1s 5ms/step - loss: 3.1173e-04 - sparse_categorical_accuracy: 1.0000 - val_loss: 0.3460 - val_sparse_categorical_accuracy: 0.9625 - lr: 2.5000e-04\n",
            "Epoch 100/1000\n",
            "300/300 [==============================] - 1s 5ms/step - loss: 1.5499e-04 - sparse_categorical_accuracy: 1.0000 - val_loss: 0.2948 - val_sparse_categorical_accuracy: 0.9633 - lr: 2.5000e-04\n",
            "Epoch 101/1000\n",
            "300/300 [==============================] - 1s 5ms/step - loss: 5.0011e-04 - sparse_categorical_accuracy: 0.9999 - val_loss: 0.1850 - val_sparse_categorical_accuracy: 0.9638 - lr: 2.5000e-04\n",
            "Epoch 102/1000\n",
            "300/300 [==============================] - 2s 5ms/step - loss: 6.5767e-04 - sparse_categorical_accuracy: 0.9998 - val_loss: 0.1985 - val_sparse_categorical_accuracy: 0.9638 - lr: 2.5000e-04\n",
            "Epoch 103/1000\n",
            "300/300 [==============================] - 2s 5ms/step - loss: 8.1083e-04 - sparse_categorical_accuracy: 0.9998 - val_loss: 0.1263 - val_sparse_categorical_accuracy: 0.9650 - lr: 2.5000e-04\n",
            "Epoch 104/1000\n",
            "300/300 [==============================] - 1s 5ms/step - loss: 8.4109e-04 - sparse_categorical_accuracy: 0.9998 - val_loss: 0.1361 - val_sparse_categorical_accuracy: 0.9663 - lr: 2.5000e-04\n",
            "Epoch 105/1000\n",
            "300/300 [==============================] - 1s 5ms/step - loss: 2.5065e-04 - sparse_categorical_accuracy: 1.0000 - val_loss: 0.1689 - val_sparse_categorical_accuracy: 0.9679 - lr: 2.5000e-04\n",
            "Epoch 106/1000\n",
            "300/300 [==============================] - 1s 5ms/step - loss: 3.1389e-04 - sparse_categorical_accuracy: 1.0000 - val_loss: 0.1494 - val_sparse_categorical_accuracy: 0.9708 - lr: 1.2500e-04\n",
            "Epoch 107/1000\n",
            "300/300 [==============================] - 1s 5ms/step - loss: 1.4405e-04 - sparse_categorical_accuracy: 1.0000 - val_loss: 0.1458 - val_sparse_categorical_accuracy: 0.9696 - lr: 1.2500e-04\n",
            "Epoch 108/1000\n",
            "300/300 [==============================] - 1s 5ms/step - loss: 1.4241e-04 - sparse_categorical_accuracy: 1.0000 - val_loss: 0.1556 - val_sparse_categorical_accuracy: 0.9700 - lr: 1.2500e-04\n",
            "Epoch 109/1000\n",
            "300/300 [==============================] - 1s 5ms/step - loss: 2.2322e-04 - sparse_categorical_accuracy: 1.0000 - val_loss: 0.1743 - val_sparse_categorical_accuracy: 0.9671 - lr: 1.2500e-04\n",
            "Epoch 110/1000\n",
            "300/300 [==============================] - 1s 5ms/step - loss: 1.3174e-04 - sparse_categorical_accuracy: 1.0000 - val_loss: 0.1607 - val_sparse_categorical_accuracy: 0.9663 - lr: 1.2500e-04\n",
            "Epoch 111/1000\n",
            "300/300 [==============================] - 2s 5ms/step - loss: 3.4941e-04 - sparse_categorical_accuracy: 0.9999 - val_loss: 0.1724 - val_sparse_categorical_accuracy: 0.9646 - lr: 1.2500e-04\n",
            "Epoch 112/1000\n",
            "300/300 [==============================] - 2s 5ms/step - loss: 2.7754e-04 - sparse_categorical_accuracy: 1.0000 - val_loss: 0.1957 - val_sparse_categorical_accuracy: 0.9633 - lr: 1.2500e-04\n",
            "Epoch 113/1000\n",
            "300/300 [==============================] - 1s 5ms/step - loss: 1.3880e-04 - sparse_categorical_accuracy: 1.0000 - val_loss: 0.2276 - val_sparse_categorical_accuracy: 0.9654 - lr: 1.2500e-04\n",
            "Epoch 114/1000\n",
            "300/300 [==============================] - 1s 5ms/step - loss: 1.0329e-04 - sparse_categorical_accuracy: 1.0000 - val_loss: 0.2116 - val_sparse_categorical_accuracy: 0.9633 - lr: 1.2500e-04\n",
            "Epoch 115/1000\n",
            "300/300 [==============================] - 2s 5ms/step - loss: 1.4746e-04 - sparse_categorical_accuracy: 1.0000 - val_loss: 0.2020 - val_sparse_categorical_accuracy: 0.9629 - lr: 1.2500e-04\n",
            "Epoch 115: early stopping\n"
          ]
        }
      ],
      "source": [
        "epochs = 1000\n",
        "batch_size = 32\n",
        "\n",
        "model = make_model(input_shape=x_train.shape[1:])\n",
        "keras.utils.plot_model(model, show_shapes=True)\n",
        "\n",
        "callbacks = [\n",
        "    keras.callbacks.ModelCheckpoint(\n",
        "        \"generated_data_model.h5\", save_best_only=True, monitor=\"val_loss\"\n",
        "    ),\n",
        "    keras.callbacks.ReduceLROnPlateau(\n",
        "        monitor=\"val_loss\", factor=0.5, patience=20, min_lr=0.0001\n",
        "    ),\n",
        "    keras.callbacks.EarlyStopping(monitor=\"val_loss\", patience=50, verbose=1),\n",
        "]\n",
        "model.compile(\n",
        "    optimizer=\"adam\",\n",
        "    loss=\"sparse_categorical_crossentropy\",\n",
        "    metrics=[\"sparse_categorical_accuracy\"],\n",
        ")\n",
        "history = model.fit(\n",
        "    x_train,\n",
        "    y_train,\n",
        "    batch_size=batch_size,\n",
        "    epochs=epochs,\n",
        "    callbacks=callbacks,\n",
        "    validation_split=0.2,\n",
        "    verbose=1,\n",
        ")"
      ]
    },
    {
      "cell_type": "markdown",
      "metadata": {
        "id": "yVaGqpiIvyuA"
      },
      "source": [
        "## Model Evaluation "
      ]
    },
    {
      "cell_type": "code",
      "execution_count": 27,
      "metadata": {
        "colab": {
          "base_uri": "https://localhost:8080/"
        },
        "id": "cWgeEMkUvyHR",
        "outputId": "c03079b7-29e8-4a01-8b04-a180445fae75"
      },
      "outputs": [
        {
          "output_type": "stream",
          "name": "stdout",
          "text": [
            "313/313 [==============================] - 1s 3ms/step - loss: 0.2797 - sparse_categorical_accuracy: 0.9449\n",
            "Test accuracy 0.9448999762535095\n",
            "Test loss 0.2797108292579651\n"
          ]
        }
      ],
      "source": [
        "model = keras.models.load_model(\"generated_data_model.h5\")\n",
        "\n",
        "test_loss, test_acc = model.evaluate(x_test, y_test)\n",
        "\n",
        "print(\"Test accuracy\", test_acc)\n",
        "print(\"Test loss\", test_loss)"
      ]
    },
    {
      "cell_type": "code",
      "execution_count": 18,
      "metadata": {
        "colab": {
          "base_uri": "https://localhost:8080/",
          "height": 298
        },
        "id": "I-tiWrn8v5EW",
        "outputId": "d6ef1541-a04f-41f3-f68e-bfa918f52839"
      },
      "outputs": [
        {
          "output_type": "display_data",
          "data": {
            "text/plain": [
              "<Figure size 432x288 with 1 Axes>"
            ],
            "image/png": "[encoded data removed]"
          },
          "metadata": {
            "needs_background": "light"
          }
        }
      ],
      "source": [
        "metric = \"sparse_categorical_accuracy\"\n",
        "plt.figure()\n",
        "plt.plot(history.history[metric])\n",
        "plt.plot(history.history[\"val_\" + metric])\n",
        "plt.title(\"model \" + metric)\n",
        "plt.ylabel(metric, fontsize=\"large\")\n",
        "plt.xlabel(\"epoch\", fontsize=\"large\")\n",
        "plt.legend([\"train\", \"val\"], loc=\"best\")\n",
        "plt.show()\n",
        "plt.close()"
      ]
    },
    {
      "cell_type": "markdown",
      "source": [
        "## Limited Data Plus Syntetic Time GAN Generated Data"
      ],
      "metadata": {
        "id": "BKBRCJ0HUNXF"
      }
    },
    {
      "cell_type": "code",
      "source": [
        "data2 = np.load(INPUT_DIR + '/time_gan_data_new.npy')\n",
        "data2.shape"
      ],
      "metadata": {
        "colab": {
          "base_uri": "https://localhost:8080/"
        },
        "id": "pW6-inRsUPKy",
        "outputId": "51167ec8-b7a7-4258-b856-595f519ce09a"
      },
      "execution_count": 19,
      "outputs": [
        {
          "output_type": "execute_result",
          "data": {
            "text/plain": [
              "(6000, 10, 784)"
            ]
          },
          "metadata": {},
          "execution_count": 19
        }
      ]
    },
    {
      "cell_type": "code",
      "source": [
        "y_train_new = np.repeat([0,1,2,3,4,5,6,7,8,9,10,11,12,13,14,15,16,17,18,19], data2.shape[0]/20)\n",
        "y_train_new.shape"
      ],
      "metadata": {
        "colab": {
          "base_uri": "https://localhost:8080/"
        },
        "id": "gOwYlPKTShlE",
        "outputId": "b2058ce5-361d-4ffa-acff-e89a5489437f"
      },
      "execution_count": 20,
      "outputs": [
        {
          "output_type": "execute_result",
          "data": {
            "text/plain": [
              "(6000,)"
            ]
          },
          "metadata": {},
          "execution_count": 20
        }
      ]
    },
    {
      "cell_type": "code",
      "source": [
        "x_train, y_train = np.concatenate((x_train_saved, data2)), np.concatenate((y_train_saved, y_train_new))\n",
        "x_train.shape, y_train.shape"
      ],
      "metadata": {
        "colab": {
          "base_uri": "https://localhost:8080/"
        },
        "id": "-zCRo5DNVRFn",
        "outputId": "c024dc17-c4c0-436d-cefb-574422391525"
      },
      "execution_count": 21,
      "outputs": [
        {
          "output_type": "execute_result",
          "data": {
            "text/plain": [
              "((12000, 10, 784), (12000,))"
            ]
          },
          "metadata": {},
          "execution_count": 21
        }
      ]
    },
    {
      "cell_type": "markdown",
      "source": [
        "## Train Model"
      ],
      "metadata": {
        "id": "oimqcl6VVssk"
      }
    },
    {
      "cell_type": "code",
      "source": [
        "epochs = 1000\n",
        "batch_size = 32\n",
        "\n",
        "model = make_model(input_shape=x_train.shape[1:])\n",
        "keras.utils.plot_model(model, show_shapes=True)\n",
        "\n",
        "callbacks = [\n",
        "    keras.callbacks.ModelCheckpoint(\n",
        "        \"time_gan_model.h5\", save_best_only=True, monitor=\"val_loss\"\n",
        "    ),\n",
        "    keras.callbacks.ReduceLROnPlateau(\n",
        "        monitor=\"val_loss\", factor=0.5, patience=20, min_lr=0.0001\n",
        "    ),\n",
        "    keras.callbacks.EarlyStopping(monitor=\"val_loss\", patience=50, verbose=1),\n",
        "]\n",
        "model.compile(\n",
        "    optimizer=\"adam\",\n",
        "    loss=\"sparse_categorical_crossentropy\",\n",
        "    metrics=[\"sparse_categorical_accuracy\"],\n",
        ")\n",
        "history = model.fit(\n",
        "    x_train,\n",
        "    y_train,\n",
        "    batch_size=batch_size,\n",
        "    epochs=epochs,\n",
        "    callbacks=callbacks,\n",
        "    validation_split=0.2,\n",
        "    verbose=1,\n",
        ")"
      ],
      "metadata": {
        "colab": {
          "base_uri": "https://localhost:8080/"
        },
        "id": "jBpubtVTVpn2",
        "outputId": "4c633982-25a3-490a-9c96-72b1eb6852cb"
      },
      "execution_count": 28,
      "outputs": [
        {
          "output_type": "stream",
          "name": "stdout",
          "text": [
            "Epoch 1/1000\n",
            "300/300 [==============================] - 3s 6ms/step - loss: 0.7738 - sparse_categorical_accuracy: 0.8271 - val_loss: 0.6494 - val_sparse_categorical_accuracy: 0.7912 - lr: 0.0010\n",
            "Epoch 2/1000\n",
            "300/300 [==============================] - 2s 5ms/step - loss: 0.2636 - sparse_categorical_accuracy: 0.9322 - val_loss: 0.3328 - val_sparse_categorical_accuracy: 0.9104 - lr: 0.0010\n",
            "Epoch 3/1000\n",
            "300/300 [==============================] - 2s 5ms/step - loss: 0.1733 - sparse_categorical_accuracy: 0.9544 - val_loss: 0.1561 - val_sparse_categorical_accuracy: 0.9529 - lr: 0.0010\n",
            "Epoch 4/1000\n",
            "300/300 [==============================] - 2s 5ms/step - loss: 0.1187 - sparse_categorical_accuracy: 0.9671 - val_loss: 0.2138 - val_sparse_categorical_accuracy: 0.9221 - lr: 0.0010\n",
            "Epoch 5/1000\n",
            "300/300 [==============================] - 2s 5ms/step - loss: 0.0941 - sparse_categorical_accuracy: 0.9737 - val_loss: 0.1738 - val_sparse_categorical_accuracy: 0.9413 - lr: 0.0010\n",
            "Epoch 6/1000\n",
            "300/300 [==============================] - 2s 5ms/step - loss: 0.0686 - sparse_categorical_accuracy: 0.9821 - val_loss: 0.1068 - val_sparse_categorical_accuracy: 0.9613 - lr: 0.0010\n",
            "Epoch 7/1000\n",
            "300/300 [==============================] - 1s 5ms/step - loss: 0.0709 - sparse_categorical_accuracy: 0.9791 - val_loss: 0.1323 - val_sparse_categorical_accuracy: 0.9529 - lr: 0.0010\n",
            "Epoch 8/1000\n",
            "300/300 [==============================] - 1s 5ms/step - loss: 0.0517 - sparse_categorical_accuracy: 0.9861 - val_loss: 0.3190 - val_sparse_categorical_accuracy: 0.8950 - lr: 0.0010\n",
            "Epoch 9/1000\n",
            "300/300 [==============================] - 1s 5ms/step - loss: 0.0516 - sparse_categorical_accuracy: 0.9858 - val_loss: 0.0715 - val_sparse_categorical_accuracy: 0.9729 - lr: 0.0010\n",
            "Epoch 10/1000\n",
            "300/300 [==============================] - 1s 5ms/step - loss: 0.0326 - sparse_categorical_accuracy: 0.9915 - val_loss: 0.1252 - val_sparse_categorical_accuracy: 0.9588 - lr: 0.0010\n",
            "Epoch 11/1000\n",
            "300/300 [==============================] - 1s 5ms/step - loss: 0.0281 - sparse_categorical_accuracy: 0.9932 - val_loss: 0.0941 - val_sparse_categorical_accuracy: 0.9588 - lr: 0.0010\n",
            "Epoch 12/1000\n",
            "300/300 [==============================] - 1s 5ms/step - loss: 0.0307 - sparse_categorical_accuracy: 0.9907 - val_loss: 0.1368 - val_sparse_categorical_accuracy: 0.9558 - lr: 0.0010\n",
            "Epoch 13/1000\n",
            "300/300 [==============================] - 1s 5ms/step - loss: 0.0399 - sparse_categorical_accuracy: 0.9878 - val_loss: 0.1527 - val_sparse_categorical_accuracy: 0.9463 - lr: 0.0010\n",
            "Epoch 14/1000\n",
            "300/300 [==============================] - 1s 5ms/step - loss: 0.0275 - sparse_categorical_accuracy: 0.9915 - val_loss: 0.0944 - val_sparse_categorical_accuracy: 0.9650 - lr: 0.0010\n",
            "Epoch 15/1000\n",
            "300/300 [==============================] - 1s 5ms/step - loss: 0.0248 - sparse_categorical_accuracy: 0.9930 - val_loss: 0.1900 - val_sparse_categorical_accuracy: 0.9521 - lr: 0.0010\n",
            "Epoch 16/1000\n",
            "300/300 [==============================] - 1s 5ms/step - loss: 0.0179 - sparse_categorical_accuracy: 0.9949 - val_loss: 0.1187 - val_sparse_categorical_accuracy: 0.9592 - lr: 0.0010\n",
            "Epoch 17/1000\n",
            "300/300 [==============================] - 1s 5ms/step - loss: 0.0258 - sparse_categorical_accuracy: 0.9929 - val_loss: 0.1613 - val_sparse_categorical_accuracy: 0.9492 - lr: 0.0010\n",
            "Epoch 18/1000\n",
            "300/300 [==============================] - 1s 5ms/step - loss: 0.0251 - sparse_categorical_accuracy: 0.9924 - val_loss: 0.1189 - val_sparse_categorical_accuracy: 0.9717 - lr: 0.0010\n",
            "Epoch 19/1000\n",
            "300/300 [==============================] - 1s 5ms/step - loss: 0.0242 - sparse_categorical_accuracy: 0.9924 - val_loss: 0.0895 - val_sparse_categorical_accuracy: 0.9671 - lr: 0.0010\n",
            "Epoch 20/1000\n",
            "300/300 [==============================] - 1s 5ms/step - loss: 0.0227 - sparse_categorical_accuracy: 0.9939 - val_loss: 0.1469 - val_sparse_categorical_accuracy: 0.9592 - lr: 0.0010\n",
            "Epoch 21/1000\n",
            "300/300 [==============================] - 1s 5ms/step - loss: 0.0119 - sparse_categorical_accuracy: 0.9977 - val_loss: 0.1097 - val_sparse_categorical_accuracy: 0.9604 - lr: 0.0010\n",
            "Epoch 22/1000\n",
            "300/300 [==============================] - 1s 5ms/step - loss: 0.0185 - sparse_categorical_accuracy: 0.9953 - val_loss: 0.0793 - val_sparse_categorical_accuracy: 0.9762 - lr: 0.0010\n",
            "Epoch 23/1000\n",
            "300/300 [==============================] - 1s 5ms/step - loss: 0.0251 - sparse_categorical_accuracy: 0.9918 - val_loss: 0.0952 - val_sparse_categorical_accuracy: 0.9638 - lr: 0.0010\n",
            "Epoch 24/1000\n",
            "300/300 [==============================] - 1s 5ms/step - loss: 0.0238 - sparse_categorical_accuracy: 0.9927 - val_loss: 0.1383 - val_sparse_categorical_accuracy: 0.9667 - lr: 0.0010\n",
            "Epoch 25/1000\n",
            "300/300 [==============================] - 1s 5ms/step - loss: 0.0171 - sparse_categorical_accuracy: 0.9949 - val_loss: 0.2539 - val_sparse_categorical_accuracy: 0.9362 - lr: 0.0010\n",
            "Epoch 26/1000\n",
            "300/300 [==============================] - 1s 5ms/step - loss: 0.0122 - sparse_categorical_accuracy: 0.9967 - val_loss: 0.1050 - val_sparse_categorical_accuracy: 0.9596 - lr: 0.0010\n",
            "Epoch 27/1000\n",
            "300/300 [==============================] - 1s 5ms/step - loss: 0.0111 - sparse_categorical_accuracy: 0.9976 - val_loss: 0.1306 - val_sparse_categorical_accuracy: 0.9496 - lr: 0.0010\n",
            "Epoch 28/1000\n",
            "300/300 [==============================] - 2s 5ms/step - loss: 0.0076 - sparse_categorical_accuracy: 0.9981 - val_loss: 0.1802 - val_sparse_categorical_accuracy: 0.9621 - lr: 0.0010\n",
            "Epoch 29/1000\n",
            "300/300 [==============================] - 2s 6ms/step - loss: 0.0204 - sparse_categorical_accuracy: 0.9935 - val_loss: 0.1237 - val_sparse_categorical_accuracy: 0.9733 - lr: 0.0010\n",
            "Epoch 30/1000\n",
            "300/300 [==============================] - 2s 6ms/step - loss: 0.0080 - sparse_categorical_accuracy: 0.9979 - val_loss: 0.0919 - val_sparse_categorical_accuracy: 0.9642 - lr: 5.0000e-04\n",
            "Epoch 31/1000\n",
            "300/300 [==============================] - 2s 6ms/step - loss: 0.0040 - sparse_categorical_accuracy: 0.9992 - val_loss: 0.1021 - val_sparse_categorical_accuracy: 0.9671 - lr: 5.0000e-04\n",
            "Epoch 32/1000\n",
            "300/300 [==============================] - 2s 5ms/step - loss: 0.0035 - sparse_categorical_accuracy: 0.9991 - val_loss: 0.1197 - val_sparse_categorical_accuracy: 0.9579 - lr: 5.0000e-04\n",
            "Epoch 33/1000\n",
            "300/300 [==============================] - 2s 6ms/step - loss: 0.0031 - sparse_categorical_accuracy: 0.9994 - val_loss: 0.0852 - val_sparse_categorical_accuracy: 0.9704 - lr: 5.0000e-04\n",
            "Epoch 34/1000\n",
            "300/300 [==============================] - 2s 6ms/step - loss: 0.0024 - sparse_categorical_accuracy: 0.9993 - val_loss: 0.0681 - val_sparse_categorical_accuracy: 0.9808 - lr: 5.0000e-04\n",
            "Epoch 35/1000\n",
            "300/300 [==============================] - 2s 6ms/step - loss: 0.0020 - sparse_categorical_accuracy: 0.9998 - val_loss: 0.0790 - val_sparse_categorical_accuracy: 0.9717 - lr: 5.0000e-04\n",
            "Epoch 36/1000\n",
            "300/300 [==============================] - 2s 6ms/step - loss: 0.0022 - sparse_categorical_accuracy: 0.9995 - val_loss: 0.1060 - val_sparse_categorical_accuracy: 0.9654 - lr: 5.0000e-04\n",
            "Epoch 37/1000\n",
            "300/300 [==============================] - 2s 6ms/step - loss: 0.0084 - sparse_categorical_accuracy: 0.9976 - val_loss: 0.0924 - val_sparse_categorical_accuracy: 0.9633 - lr: 5.0000e-04\n",
            "Epoch 38/1000\n",
            "300/300 [==============================] - 2s 6ms/step - loss: 0.0051 - sparse_categorical_accuracy: 0.9986 - val_loss: 0.1596 - val_sparse_categorical_accuracy: 0.9517 - lr: 5.0000e-04\n",
            "Epoch 39/1000\n",
            "300/300 [==============================] - 2s 6ms/step - loss: 0.0070 - sparse_categorical_accuracy: 0.9983 - val_loss: 0.1535 - val_sparse_categorical_accuracy: 0.9550 - lr: 5.0000e-04\n",
            "Epoch 40/1000\n",
            "300/300 [==============================] - 2s 6ms/step - loss: 0.0026 - sparse_categorical_accuracy: 0.9995 - val_loss: 0.0837 - val_sparse_categorical_accuracy: 0.9638 - lr: 5.0000e-04\n",
            "Epoch 41/1000\n",
            "300/300 [==============================] - 2s 6ms/step - loss: 0.0029 - sparse_categorical_accuracy: 0.9994 - val_loss: 0.0730 - val_sparse_categorical_accuracy: 0.9771 - lr: 5.0000e-04\n",
            "Epoch 42/1000\n",
            "300/300 [==============================] - 2s 6ms/step - loss: 0.0046 - sparse_categorical_accuracy: 0.9986 - val_loss: 0.1458 - val_sparse_categorical_accuracy: 0.9521 - lr: 5.0000e-04\n",
            "Epoch 43/1000\n",
            "300/300 [==============================] - 2s 6ms/step - loss: 0.0041 - sparse_categorical_accuracy: 0.9989 - val_loss: 0.0860 - val_sparse_categorical_accuracy: 0.9658 - lr: 5.0000e-04\n",
            "Epoch 44/1000\n",
            "300/300 [==============================] - 2s 6ms/step - loss: 0.0016 - sparse_categorical_accuracy: 0.9997 - val_loss: 0.1354 - val_sparse_categorical_accuracy: 0.9638 - lr: 5.0000e-04\n",
            "Epoch 45/1000\n",
            "300/300 [==============================] - 2s 6ms/step - loss: 0.0028 - sparse_categorical_accuracy: 0.9993 - val_loss: 0.1628 - val_sparse_categorical_accuracy: 0.9571 - lr: 5.0000e-04\n",
            "Epoch 46/1000\n",
            "300/300 [==============================] - 2s 6ms/step - loss: 0.0091 - sparse_categorical_accuracy: 0.9975 - val_loss: 0.2550 - val_sparse_categorical_accuracy: 0.9446 - lr: 5.0000e-04\n",
            "Epoch 47/1000\n",
            "300/300 [==============================] - 2s 6ms/step - loss: 0.0110 - sparse_categorical_accuracy: 0.9964 - val_loss: 0.1411 - val_sparse_categorical_accuracy: 0.9496 - lr: 5.0000e-04\n",
            "Epoch 48/1000\n",
            "300/300 [==============================] - 2s 6ms/step - loss: 0.0039 - sparse_categorical_accuracy: 0.9991 - val_loss: 0.1010 - val_sparse_categorical_accuracy: 0.9621 - lr: 5.0000e-04\n",
            "Epoch 49/1000\n",
            "300/300 [==============================] - 2s 6ms/step - loss: 0.0015 - sparse_categorical_accuracy: 0.9999 - val_loss: 0.1490 - val_sparse_categorical_accuracy: 0.9558 - lr: 5.0000e-04\n",
            "Epoch 50/1000\n",
            "300/300 [==============================] - 2s 6ms/step - loss: 0.0012 - sparse_categorical_accuracy: 0.9999 - val_loss: 0.1195 - val_sparse_categorical_accuracy: 0.9629 - lr: 5.0000e-04\n",
            "Epoch 51/1000\n",
            "300/300 [==============================] - 2s 6ms/step - loss: 0.0021 - sparse_categorical_accuracy: 0.9994 - val_loss: 0.1197 - val_sparse_categorical_accuracy: 0.9613 - lr: 5.0000e-04\n",
            "Epoch 52/1000\n",
            "300/300 [==============================] - 2s 6ms/step - loss: 0.0022 - sparse_categorical_accuracy: 0.9994 - val_loss: 0.1226 - val_sparse_categorical_accuracy: 0.9554 - lr: 5.0000e-04\n",
            "Epoch 53/1000\n",
            "300/300 [==============================] - 2s 6ms/step - loss: 0.0028 - sparse_categorical_accuracy: 0.9992 - val_loss: 0.1508 - val_sparse_categorical_accuracy: 0.9613 - lr: 5.0000e-04\n",
            "Epoch 54/1000\n",
            "300/300 [==============================] - 2s 5ms/step - loss: 0.0032 - sparse_categorical_accuracy: 0.9995 - val_loss: 0.1216 - val_sparse_categorical_accuracy: 0.9629 - lr: 5.0000e-04\n",
            "Epoch 55/1000\n",
            "300/300 [==============================] - 1s 5ms/step - loss: 0.0012 - sparse_categorical_accuracy: 0.9998 - val_loss: 0.1424 - val_sparse_categorical_accuracy: 0.9650 - lr: 2.5000e-04\n",
            "Epoch 56/1000\n",
            "300/300 [==============================] - 1s 5ms/step - loss: 0.0013 - sparse_categorical_accuracy: 0.9998 - val_loss: 0.1314 - val_sparse_categorical_accuracy: 0.9617 - lr: 2.5000e-04\n",
            "Epoch 57/1000\n",
            "300/300 [==============================] - 1s 5ms/step - loss: 6.1026e-04 - sparse_categorical_accuracy: 1.0000 - val_loss: 0.1350 - val_sparse_categorical_accuracy: 0.9608 - lr: 2.5000e-04\n",
            "Epoch 58/1000\n",
            "300/300 [==============================] - 1s 5ms/step - loss: 6.3486e-04 - sparse_categorical_accuracy: 1.0000 - val_loss: 0.1465 - val_sparse_categorical_accuracy: 0.9617 - lr: 2.5000e-04\n",
            "Epoch 59/1000\n",
            "300/300 [==============================] - 1s 5ms/step - loss: 0.0013 - sparse_categorical_accuracy: 0.9999 - val_loss: 0.1965 - val_sparse_categorical_accuracy: 0.9533 - lr: 2.5000e-04\n",
            "Epoch 60/1000\n",
            "300/300 [==============================] - 1s 5ms/step - loss: 4.8546e-04 - sparse_categorical_accuracy: 0.9999 - val_loss: 0.1735 - val_sparse_categorical_accuracy: 0.9546 - lr: 2.5000e-04\n",
            "Epoch 61/1000\n",
            "300/300 [==============================] - 1s 5ms/step - loss: 0.0020 - sparse_categorical_accuracy: 0.9993 - val_loss: 0.0948 - val_sparse_categorical_accuracy: 0.9588 - lr: 2.5000e-04\n",
            "Epoch 62/1000\n",
            "300/300 [==============================] - 1s 5ms/step - loss: 0.0022 - sparse_categorical_accuracy: 0.9995 - val_loss: 0.0750 - val_sparse_categorical_accuracy: 0.9754 - lr: 2.5000e-04\n",
            "Epoch 63/1000\n",
            "300/300 [==============================] - 1s 5ms/step - loss: 9.1375e-04 - sparse_categorical_accuracy: 0.9999 - val_loss: 0.1057 - val_sparse_categorical_accuracy: 0.9604 - lr: 2.5000e-04\n",
            "Epoch 64/1000\n",
            "300/300 [==============================] - 1s 5ms/step - loss: 6.0553e-04 - sparse_categorical_accuracy: 0.9999 - val_loss: 0.1882 - val_sparse_categorical_accuracy: 0.9567 - lr: 2.5000e-04\n",
            "Epoch 65/1000\n",
            "300/300 [==============================] - 1s 5ms/step - loss: 5.3313e-04 - sparse_categorical_accuracy: 0.9999 - val_loss: 0.0934 - val_sparse_categorical_accuracy: 0.9617 - lr: 2.5000e-04\n",
            "Epoch 66/1000\n",
            "300/300 [==============================] - 1s 5ms/step - loss: 0.0028 - sparse_categorical_accuracy: 0.9989 - val_loss: 0.1887 - val_sparse_categorical_accuracy: 0.9513 - lr: 2.5000e-04\n",
            "Epoch 67/1000\n",
            "300/300 [==============================] - 1s 5ms/step - loss: 0.0019 - sparse_categorical_accuracy: 0.9996 - val_loss: 0.1645 - val_sparse_categorical_accuracy: 0.9604 - lr: 2.5000e-04\n",
            "Epoch 68/1000\n",
            "300/300 [==============================] - 1s 5ms/step - loss: 5.9269e-04 - sparse_categorical_accuracy: 1.0000 - val_loss: 0.1460 - val_sparse_categorical_accuracy: 0.9583 - lr: 2.5000e-04\n",
            "Epoch 69/1000\n",
            "300/300 [==============================] - 1s 5ms/step - loss: 6.5379e-04 - sparse_categorical_accuracy: 0.9999 - val_loss: 0.0975 - val_sparse_categorical_accuracy: 0.9671 - lr: 2.5000e-04\n",
            "Epoch 70/1000\n",
            "300/300 [==============================] - 1s 5ms/step - loss: 6.2522e-04 - sparse_categorical_accuracy: 0.9998 - val_loss: 0.0929 - val_sparse_categorical_accuracy: 0.9671 - lr: 2.5000e-04\n",
            "Epoch 71/1000\n",
            "300/300 [==============================] - 1s 5ms/step - loss: 6.2770e-04 - sparse_categorical_accuracy: 1.0000 - val_loss: 0.0834 - val_sparse_categorical_accuracy: 0.9675 - lr: 2.5000e-04\n",
            "Epoch 72/1000\n",
            "300/300 [==============================] - 1s 5ms/step - loss: 6.0344e-04 - sparse_categorical_accuracy: 0.9999 - val_loss: 0.0722 - val_sparse_categorical_accuracy: 0.9688 - lr: 2.5000e-04\n",
            "Epoch 73/1000\n",
            "300/300 [==============================] - 1s 5ms/step - loss: 0.0011 - sparse_categorical_accuracy: 0.9998 - val_loss: 0.0843 - val_sparse_categorical_accuracy: 0.9667 - lr: 2.5000e-04\n",
            "Epoch 74/1000\n",
            "300/300 [==============================] - 1s 5ms/step - loss: 4.3501e-04 - sparse_categorical_accuracy: 1.0000 - val_loss: 0.1093 - val_sparse_categorical_accuracy: 0.9654 - lr: 2.5000e-04\n",
            "Epoch 75/1000\n",
            "300/300 [==============================] - 1s 5ms/step - loss: 4.2135e-04 - sparse_categorical_accuracy: 1.0000 - val_loss: 0.1256 - val_sparse_categorical_accuracy: 0.9621 - lr: 1.2500e-04\n",
            "Epoch 76/1000\n",
            "300/300 [==============================] - 1s 5ms/step - loss: 3.9200e-04 - sparse_categorical_accuracy: 1.0000 - val_loss: 0.1349 - val_sparse_categorical_accuracy: 0.9608 - lr: 1.2500e-04\n",
            "Epoch 77/1000\n",
            "300/300 [==============================] - 2s 5ms/step - loss: 3.3447e-04 - sparse_categorical_accuracy: 1.0000 - val_loss: 0.1119 - val_sparse_categorical_accuracy: 0.9646 - lr: 1.2500e-04\n",
            "Epoch 78/1000\n",
            "300/300 [==============================] - 2s 6ms/step - loss: 5.8007e-04 - sparse_categorical_accuracy: 0.9998 - val_loss: 0.2039 - val_sparse_categorical_accuracy: 0.9567 - lr: 1.2500e-04\n",
            "Epoch 79/1000\n",
            "300/300 [==============================] - 2s 6ms/step - loss: 2.9545e-04 - sparse_categorical_accuracy: 1.0000 - val_loss: 0.1633 - val_sparse_categorical_accuracy: 0.9583 - lr: 1.2500e-04\n",
            "Epoch 80/1000\n",
            "300/300 [==============================] - 2s 6ms/step - loss: 3.5922e-04 - sparse_categorical_accuracy: 0.9999 - val_loss: 0.1414 - val_sparse_categorical_accuracy: 0.9600 - lr: 1.2500e-04\n",
            "Epoch 81/1000\n",
            "300/300 [==============================] - 2s 6ms/step - loss: 2.9897e-04 - sparse_categorical_accuracy: 1.0000 - val_loss: 0.1289 - val_sparse_categorical_accuracy: 0.9604 - lr: 1.2500e-04\n",
            "Epoch 82/1000\n",
            "300/300 [==============================] - 2s 6ms/step - loss: 3.0058e-04 - sparse_categorical_accuracy: 1.0000 - val_loss: 0.1383 - val_sparse_categorical_accuracy: 0.9592 - lr: 1.2500e-04\n",
            "Epoch 83/1000\n",
            "300/300 [==============================] - 2s 6ms/step - loss: 2.6446e-04 - sparse_categorical_accuracy: 1.0000 - val_loss: 0.1652 - val_sparse_categorical_accuracy: 0.9583 - lr: 1.2500e-04\n",
            "Epoch 84/1000\n",
            "300/300 [==============================] - 2s 6ms/step - loss: 1.8611e-04 - sparse_categorical_accuracy: 1.0000 - val_loss: 0.1561 - val_sparse_categorical_accuracy: 0.9583 - lr: 1.2500e-04\n",
            "Epoch 84: early stopping\n"
          ]
        }
      ]
    },
    {
      "cell_type": "markdown",
      "source": [
        "## Model Evaluation"
      ],
      "metadata": {
        "id": "OgQA3u9sV3Wb"
      }
    },
    {
      "cell_type": "code",
      "source": [
        "model = keras.models.load_model(\"time_gan_model.h5\")\n",
        "\n",
        "test_loss, test_acc = model.evaluate(x_test, y_test)\n",
        "\n",
        "print(\"Test accuracy\", test_acc)\n",
        "print(\"Test loss\", test_loss)"
      ],
      "metadata": {
        "colab": {
          "base_uri": "https://localhost:8080/"
        },
        "id": "yYsLu9Z_V0ji",
        "outputId": "de722cf6-08c1-4974-e285-f3a3b95c6b01"
      },
      "execution_count": 29,
      "outputs": [
        {
          "output_type": "stream",
          "name": "stdout",
          "text": [
            "313/313 [==============================] - 1s 4ms/step - loss: 0.2546 - sparse_categorical_accuracy: 0.9413\n",
            "Test accuracy 0.9412999749183655\n",
            "Test loss 0.25458580255508423\n"
          ]
        }
      ]
    },
    {
      "cell_type": "code",
      "source": [
        "metric = \"sparse_categorical_accuracy\"\n",
        "plt.figure()\n",
        "plt.plot(history.history[metric])\n",
        "plt.plot(history.history[\"val_\" + metric])\n",
        "plt.title(\"model \" + metric)\n",
        "plt.ylabel(metric, fontsize=\"large\")\n",
        "plt.xlabel(\"epoch\", fontsize=\"large\")\n",
        "plt.legend([\"train\", \"val\"], loc=\"best\")\n",
        "plt.show()\n",
        "plt.close()"
      ],
      "metadata": {
        "colab": {
          "base_uri": "https://localhost:8080/",
          "height": 298
        },
        "id": "w9IN2AvFV78d",
        "outputId": "54965854-5ee2-4104-cc3a-93357c601acf"
      },
      "execution_count": 24,
      "outputs": [
        {
          "output_type": "display_data",
          "data": {
            "text/plain": [
              "<Figure size 432x288 with 1 Axes>"
            ],
            "image/png": "[encoded data removed]"
          },
          "metadata": {
            "needs_background": "light"
          }
        }
      ]
    }
  ],
  "metadata": {
    "accelerator": "GPU",
    "colab": {
      "collapsed_sections": [],
      "machine_shape": "hm",
      "name": "timeseries_classification",
      "provenance": []
    },
    "gpuClass": "standard",
    "kernelspec": {
      "display_name": "Python 3",
      "language": "python",
      "name": "python3"
    },
    "language_info": {
      "codemirror_mode": {
        "name": "ipython",
        "version": 3
      },
      "file_extension": ".py",
      "mimetype": "text/x-python",
      "name": "python",
      "nbconvert_exporter": "python",
      "pygments_lexer": "ipython3",
      "version": "3.6.10"
    }
  },
  "nbformat": 4,
  "nbformat_minor": 0
}